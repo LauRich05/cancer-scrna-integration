{
 "cells": [
  {
   "cell_type": "markdown",
   "metadata": {},
   "source": [
    "---\n",
    "# Dataset Formatting: Bi-RCC\n",
    "*L.Richards*  \n",
    "*2020-06-16*  \n",
    "*/cluster/projects/pughlab/projects/cancer_scrna_integration/data/Bi-RCC*  \n",
    "\n",
    "---\n",
    "\n",
    "Format Bi-RCC dataset. This will be input for data integration tools.  \n",
    "> Paper: https://www.cell.com/cancer-cell/pdf/S1535-6108(21)00117-3.pdf  \n",
    "> Data Download: https://singlecell.broadinstitute.org/single_cell/study/SCP1288/tumor-and-immune-reprogramming-during-immunotherapy-in-advanced-renal-cell-carcinoma#"
   ]
  },
  {
   "cell_type": "code",
   "execution_count": null,
   "metadata": {
    "collapsed": true
   },
   "outputs": [],
   "source": [
    "library(Seurat) #v4.0.1\n",
    "library(earlycross) # v0.1\n",
    "library(data.table)"
   ]
  },
  {
   "cell_type": "markdown",
   "metadata": {},
   "source": [
    "---\n",
    "## 1.0 Format downloaded public data\n",
    "---\n"
   ]
  },
  {
   "cell_type": "code",
   "execution_count": null,
   "metadata": {},
   "outputs": [],
   "source": [
    "# read 10x counts\n",
    "# 39391 cells & 60,627 genes... which does not matchs the single cell portal processed data\n",
    "# portal has 34,326 cells\n",
    "counts.file <- \"/cluster/projects/pughlab/projects/cancer_scrna_integration/data/Bi-RCC/original-data/SCP1288/expression/60c76a18771a5b0ba10ea91b/\"\n",
    "dat <- Read10X(counts.file)\n",
    "\n",
    "# load normalized expression data to filter raw counts with \n",
    "norm.file <- \"/cluster/projects/pughlab/projects/cancer_scrna_integration/data/Bi-RCC/original-data/SCP1288/expression/ccRCC_scRNASeq_NormalizedCounts.txt.gz\"\n",
    "norm <- fread(norm.file)\n",
    "norm <- data.frame(norm)\n",
    "rownames(norm) <- norm$GENE\n",
    "norm$GENE <- NULL\n",
    "\n",
    "# filter raw counts by genes and cell barcodes in normalized matrix\n",
    "table(colnames(dat) %in% colnames(norm)) # sanity check\n",
    "dat <- dat[rownames(dat) %in% rownames(norm), colnames(dat) %in% colnames(norm)]\n",
    "dim(dat) # 32636 genes x  34326 cells -- looks good now!\n",
    "rm(norm)\n",
    "\n",
    "# load metadata\n",
    "meta.file <- \"/cluster/projects/pughlab/projects/cancer_scrna_integration/data/Bi-RCC/original-data/SCP1288/metadata/Final_SCP_Metadata.txt\"\n",
    "meta <- fread(meta.file)\n",
    "meta <- data.frame(meta)\n",
    "meta <- meta[-1, ]\n",
    "rownames(meta) <- meta$NAME\n",
    "donor_id\n",
    "\n",
    "# format names to match harmonized names\n",
    "# \"SampleID\", \"PatientID\", \"CellType\" \n",
    "colnames(meta) <- gsub(\"donor_id\", \"PatientID\", colnames(meta)) # 8 patients\n",
    "meta$SampleID <- paste0(meta$PatientID, \"_\", meta$ICB_Exposed, \"_\", meta$TKI_Exposed) # 8 samples, no pairs\n",
    "\n",
    "# create seurat object\n",
    "dat <- CreateSeuratObject(counts = dat,\n",
    "                          meta.data = meta\n",
    "                         )"
   ]
  },
  {
   "cell_type": "code",
   "execution_count": null,
   "metadata": {
    "collapsed": true
   },
   "outputs": [],
   "source": [
    "# take a peek at cell annotations\n",
    "cat(unique(meta$FinalCellType), sep = \"\\n\")\n",
    "\n",
    "# clean up cell names to match other studies\n",
    "dat@meta.data$CellType <- dat@meta.data$FinalCellType\n",
    "\n",
    "dat@meta.data$CellType[grep(\"41BB\", dat@meta.data$CellType)] <- \"T_cells\"\n",
    "dat@meta.data$CellType[grep(\"T-helper\", dat@meta.data$CellType)] <- \"T_cells\"\n",
    "dat@meta.data$CellType[grep(\"CD8+\", dat@meta.data$CellType)] <- \"T_cells\"\n",
    "dat@meta.data$CellType[grep(\"Helper\", dat@meta.data$CellType)] <- \"T_cells\"\n",
    "dat@meta.data$CellType[grep(\"NKT$\", dat@meta.data$CellType)] <- \"T_cells\"\n",
    "dat@meta.data$CellType[grep(\"T-Reg\", dat@meta.data$CellType)] <- \"T_cells\"\n",
    "\n",
    "dat@meta.data$CellType[grep(\"NK$\", dat@meta.data$CellType)] <- \"NK_cells\"\n",
    "\n",
    "dat@meta.data$CellType[grep(\"DC$\", dat@meta.data$CellType)] <- \"DCs\"\n",
    "dat@meta.data$CellType[grep(\"TAM$\", dat@meta.data$CellType)] <- \"Macrophages\"\n",
    "dat@meta.data$CellType[grep(\"Macrophage$\", dat@meta.data$CellType)] <- \"Macrophages\"\n",
    "dat@meta.data$CellType[grep(\"Monocyte$\", dat@meta.data$CellType)] <- \"Macrophages\"\n",
    "dat@meta.data$CellType[grep(\"Myeloid$\", dat@meta.data$CellType)] <- \"Macrophages\"\n",
    "\n",
    "dat@meta.data$CellType <- gsub(\"^B cell$\", \"B_cells\", dat@meta.data$CellType)\n",
    "\n",
    "dat@meta.data$CellType <- gsub(\"^TP1$\", \"Malignant\", dat@meta.data$CellType)\n",
    "dat@meta.data$CellType <- gsub(\"^TP2$\", \"Malignant\", dat@meta.data$CellType)\n",
    "dat@meta.data$CellType <- gsub(\"^Cycling Tumor$\", \"Malignant\", dat@meta.data$CellType)\n",
    "\n",
    "dat@meta.data$CellType <- gsub(\"^Plasma cell$\", \"Plasma_cells\", dat@meta.data$CellType)\n",
    "dat@meta.data$CellType <- gsub(\"^Mast cell$\", \"Mast_cells\", dat@meta.data$CellType)\n",
    "\n",
    "# remove Misc/Undetermined cells\n",
    "Idents(dat) <- \"CellType\"\n",
    "dat <- subset(dat, idents = \"Misc/Undetermined\", invert = T)\n",
    "\n",
    "# save seurat object\n",
    "saveRDS(dat, file = \"Bi-RCC_seurat.rds\")"
   ]
  },
  {
   "cell_type": "markdown",
   "metadata": {},
   "source": [
    "---\n",
    "## 2.0 Output files in 10x common format\n",
    "---\n",
    "\n",
    "Output counts matrix with 10x/CellRanger formatting style and metadata csv."
   ]
  },
  {
   "cell_type": "code",
   "execution_count": null,
   "metadata": {
    "collapsed": true
   },
   "outputs": [],
   "source": [
    "# save metadata as csv file\n",
    "meta <- data.frame(dat@meta.data)\n",
    "write.csv(meta, file = \"Bi-RCC_meta.csv\")"
   ]
  },
  {
   "cell_type": "code",
   "execution_count": null,
   "metadata": {
    "collapsed": true
   },
   "outputs": [],
   "source": [
    "# export count matrix as default 10x CellRanger output\n",
    "Write10X(dat, dir = \"./\")"
   ]
  },
  {
   "cell_type": "markdown",
   "metadata": {},
   "source": [
    "---"
   ]
  }
 ],
 "metadata": {
  "kernelspec": {
   "display_name": "R",
   "language": "R",
   "name": "ir"
  },
  "language_info": {
   "codemirror_mode": "r",
   "file_extension": ".r",
   "mimetype": "text/x-r-source",
   "name": "R",
   "pygments_lexer": "r",
   "version": "3.6.3"
  }
 },
 "nbformat": 4,
 "nbformat_minor": 2
}
