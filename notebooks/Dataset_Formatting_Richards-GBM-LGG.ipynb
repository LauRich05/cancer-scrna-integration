{
 "cells": [
  {
   "cell_type": "markdown",
   "metadata": {},
   "source": [
    "---\n",
    "# Dataset Formatting: Richards-GBM-LGG\n",
    "*L.Richards*  \n",
    "*2020-05-22*  \n",
    "*/cluster/projects/pughlab/projects/cancer_scrna_integration/data/*  \n",
    "\n",
    "---\n",
    "\n",
    "Format Richards-GBM-LGG dataset. This will be input for data integration tools."
   ]
  },
  {
   "cell_type": "code",
   "execution_count": null,
   "metadata": {
    "collapsed": true
   },
   "outputs": [],
   "source": [
    "library(Seurat) #v4.0.1\n",
    "library(earlycross) # v0.1"
   ]
  },
  {
   "cell_type": "markdown",
   "metadata": {},
   "source": [
    "---\n",
    "## 1.0 Generate & cluster data cohort (H4H)\n",
    "---\n",
    "\n",
    "Lets merge 3 pairs together, that way we have a good mix of biological replicates, multiple samples from the same patient and  samples from different patients. This should help us understand if the algorithms are over or under correcting the data (but most likely over correcting...)"
   ]
  },
  {
   "cell_type": "code",
   "execution_count": null,
   "metadata": {
    "collapsed": true
   },
   "outputs": [],
   "source": [
    "setwd(\"/cluster/projects/pughlab/projects/OICR_Brain_NucSeq/GBM/analysis/BatchCorrection\")\n",
    "source(\"~/github/oicr-brain-tri-gbm/src/scRNA_helper_functions.r\")\n",
    "\n",
    "data.path <- \"/cluster/projects/pughlab/projects/OICR_Brain_NucSeq/GBM/analysis/remove-doublets/seurat_objs/patients\"\n",
    "\n",
    "objects <- c(\"B_P.GBM593.1_P.GBM593.2_R.GBM898_Seurat.rds\", # LGG oligoastrocytoma\n",
    "             \"C_P.GBM577.1_P.GBM577.2_R.GBM625_Seurat.rds\", # GBM\n",
    "             \"F_P.GBM620_R.GBM691_Seurat.rds\" # GBM\n",
    "            )\n",
    "\n",
    "# read in seurat objects into a list\n",
    "seurats <- list()\n",
    "for (i in 1:length(objects)){\n",
    "    \n",
    "    seurats[[i]] <- readRDS(paste0(data.path, \"/\", objects[i])) \n",
    "    \n",
    "}\n",
    "\n",
    "# merge seurat objects together\n",
    "# new cohort size is 35,549 nuclei\n",
    "seurats <- merge(seurats[[1]], y = c(seurats[[2]], seurats[[3]]))\n",
    "\n",
    "# cluster merged data\n",
    "seurats <- quickCluster(seurats,\n",
    "                        normalize = TRUE,\n",
    "                        vars.to.regress = NULL,\n",
    "                        #k.param = 20,\n",
    "                        dims = 20, # max dims 1:dims\n",
    "                        n.vargenes = 2000,\n",
    "                        min.resolution = 2.11,\n",
    "                        max.resolution = 2.11,\n",
    "                        n.resolution = 1, #how many resolutions to cluster over\n",
    "                        verbose = FALSE,\n",
    "                        pc.calc = 75, # how many PCs to calculate\n",
    "                        pca.genes = \"var\" # accepts \"all\" or \"var\"\n",
    "                       )\n",
    "\n",
    "# plot data\n",
    "# pdf(\"Pairs_B.C.F_NoBatchCorrection.pdf\", width = 18, height = 5)\n",
    "# DimPlot(seurats, \n",
    "#         group.by = c(\"SampleID\", \"PairID\", \"SingleR_CollapsedLabels\"),\n",
    "#         ncol = 3\n",
    "#        )\n",
    "# dev.off()\n",
    "\n",
    "# save data\n",
    "saveRDS(seurats, \n",
    "        file = \"/cluster/projects/pughlab/projects/cancer_scrna_integration/data/Richards-GBM-LGG/original-data/Richards-GBM-LGG_seurat.rds\"\n",
    "       )"
   ]
  },
  {
   "cell_type": "markdown",
   "metadata": {},
   "source": [
    "---\n",
    "## 2.0 Output files in 10x common format\n",
    "---\n",
    "\n",
    "Output counts matrix with 10x/CellRanger formatting style and metadata csv."
   ]
  },
  {
   "cell_type": "code",
   "execution_count": null,
   "metadata": {
    "collapsed": true
   },
   "outputs": [],
   "source": [
    "# save metadata as csv file\n",
    "meta <- data.frame(seurats@meta.data)\n",
    "\n",
    "keep <- c(\"AnalysisID\", \"TissueID\", \"SampleID\", \n",
    "          \"PairID\", \"TumourStage\", \"Age\", \"Sex\",\n",
    "          \"TumourGrade\", \"Pathology_Detailed\", \"Pathology\", \n",
    "          \"TumourType\", \"nCount_RNA\", \"nFeature_RNA\", \"SingleR_CollapsedLabels\"\n",
    "         )\n",
    "\n",
    "meta <- meta[ ,keep]\n",
    "meta$CellBarcode <- rownames(meta)\n",
    "\n",
    "write.csv(meta, file = \"Richards-GBM-LGG_meta.csv\")"
   ]
  },
  {
   "cell_type": "code",
   "execution_count": null,
   "metadata": {
    "collapsed": true
   },
   "outputs": [],
   "source": [
    "# export count matrix as default 10x CellRanger output\n",
    "Write10X(seurats)"
   ]
  },
  {
   "cell_type": "markdown",
   "metadata": {},
   "source": [
    "---"
   ]
  }
 ],
 "metadata": {
  "kernelspec": {
   "display_name": "R",
   "language": "R",
   "name": "ir"
  },
  "language_info": {
   "codemirror_mode": "r",
   "file_extension": ".r",
   "mimetype": "text/x-r-source",
   "name": "R",
   "pygments_lexer": "r",
   "version": "3.6.3"
  }
 },
 "nbformat": 4,
 "nbformat_minor": 2
}
