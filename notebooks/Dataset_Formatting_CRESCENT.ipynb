{
 "cells": [
  {
   "cell_type": "markdown",
   "id": "fc129263",
   "metadata": {},
   "source": [
    "---\n",
    "## Re-format public datasets for upload to CRESCENT\n",
    "*L.Richards*    \n",
    "*2021-06-14*    \n",
    "\n",
    "---\n",
    "\n",
    "Location of counts on H4H (one directory per sample, inside the directory, have 10x counts matrix): /cluster/projects/pughlab/data/CRESCENT/REFERENCE_DATASETS/v2.0/ORIGINAL_AUTHOR_CELL_RANGER_COUNT\n",
    "\n",
    "Location of metadata on H4H (.tsv.gz): cluster/projects/pughlab/data/CRESCENT/REFERENCE_DATASETS/v2.0/CELL_LEVEL_METADATA\n",
    "\n",
    "Name the directories for each study as \"FirstAuthorLastName_Journal_Year\""
   ]
  },
  {
   "cell_type": "code",
   "execution_count": 1,
   "id": "ca012b13",
   "metadata": {},
   "outputs": [],
   "source": [
    "# write a function to split up mtx files by sample for each dataset"
   ]
  },
  {
   "cell_type": "code",
   "execution_count": null,
   "id": "ea33e5b4",
   "metadata": {},
   "outputs": [],
   "source": []
  },
  {
   "cell_type": "code",
   "execution_count": null,
   "id": "53aec06a",
   "metadata": {},
   "outputs": [],
   "source": []
  }
 ],
 "metadata": {
  "kernelspec": {
   "display_name": "R",
   "language": "R",
   "name": "ir"
  },
  "language_info": {
   "codemirror_mode": "r",
   "file_extension": ".r",
   "mimetype": "text/x-r-source",
   "name": "R",
   "pygments_lexer": "r",
   "version": "3.6.3"
  }
 },
 "nbformat": 4,
 "nbformat_minor": 5
}
