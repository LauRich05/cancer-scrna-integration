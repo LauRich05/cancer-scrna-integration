{
 "cells": [
  {
   "cell_type": "markdown",
   "id": "97d22649",
   "metadata": {},
   "source": [
    "---\n",
    "# Plot cell type composition across samples and datasets \n",
    "L.Richards  \n",
    "2021-06-22  \n",
    "*/cluster/projects/pughlab/projects/cancer_scrna_integration/figures*   \n",
    "\n",
    "---"
   ]
  },
  {
   "cell_type": "code",
   "execution_count": null,
   "id": "c7e98783",
   "metadata": {},
   "outputs": [],
   "source": [
    "library(ggplot2)\n",
    "library(ggpubr)\n",
    "library(data.table)\n",
    "library(ComplexHeatmap)\n",
    "library(tidyr)\n",
    "library(viridis)\n",
    "library(dplyr)\n",
    "\n",
    "setwd(\"~/Desktop/H4H/pughlab/projects/cancer_scrna_integration/figures\")"
   ]
  },
  {
   "cell_type": "markdown",
   "id": "1d725178",
   "metadata": {},
   "source": [
    "---\n",
    "## 1.0 Read and merge meta data\n",
    "---\n"
   ]
  },
  {
   "cell_type": "code",
   "execution_count": 17,
   "id": "4f6a93ab",
   "metadata": {},
   "outputs": [],
   "source": [
    "# read in study metadata\n",
    "file.path <- \"~/Desktop/H4H/pughlab/projects/cancer_scrna_integration/data\"\n",
    "datasets <- list.files(file.path)\n",
    "datasets <- datasets[-3] # remove Griffiths, we did end up using this dataset in study\n",
    "meta <- list()\n",
    "\n",
    "for (i in 1:length(datasets)){\n",
    "    \n",
    "    file <- paste0(file.path, \"/\", datasets[i], \"/\", datasets[i], \"_meta.csv\")\n",
    "    dat <- read.csv(file) \n",
    "    rownames(dat) <- dat$X\n",
    "    dat$Study <- datasets[i]\n",
    "    meta[[datasets[i]]] <- dat\n",
    "    \n",
    "}\n"
   ]
  },
  {
   "cell_type": "code",
   "execution_count": 21,
   "id": "f9840a14",
   "metadata": {},
   "outputs": [],
   "source": [
    "# format column names to match across studies\n",
    "colnames(meta$`Ma-LIHC`)[5] <- \"SampleID\"\n",
    "colnames(meta$`Richards-GBM-LGG`)[15] <- \"CellType\"\n",
    "\n",
    "# subset each dataframe\n",
    "dat <- lapply(meta, function(x){x[ ,c(\"Study\", \"SampleID\", \"CellType\")]})\n",
    "dat <- do.call(rbind, dat)"
   ]
  },
  {
   "cell_type": "markdown",
   "id": "30ad2a18",
   "metadata": {},
   "source": [
    "---\n",
    "## 2.0 Plot histogram of cell counts across samples\n",
    "---"
   ]
  },
  {
   "cell_type": "code",
   "execution_count": 28,
   "id": "55f98ade",
   "metadata": {},
   "outputs": [
    {
     "data": {
      "text/html": [
       "<table>\n",
       "<caption>A data.frame: 6 × 2</caption>\n",
       "<thead>\n",
       "\t<tr><th></th><th scope=col>Var1</th><th scope=col>Freq</th></tr>\n",
       "\t<tr><th></th><th scope=col>&lt;fct&gt;</th><th scope=col>&lt;int&gt;</th></tr>\n",
       "</thead>\n",
       "<tbody>\n",
       "\t<tr><th scope=row>1</th><td>P55_ICB_TKI    </td><td>4621</td></tr>\n",
       "\t<tr><th scope=row>2</th><td>P76_NoICB_NoTKI</td><td>7898</td></tr>\n",
       "\t<tr><th scope=row>3</th><td>P90_NoICB_NoTKI</td><td>8421</td></tr>\n",
       "\t<tr><th scope=row>4</th><td>P906_ICB_TKI   </td><td>2449</td></tr>\n",
       "\t<tr><th scope=row>5</th><td>P912_ICB_TKI   </td><td> 252</td></tr>\n",
       "\t<tr><th scope=row>6</th><td>P913_ICB_TKI   </td><td>3570</td></tr>\n",
       "</tbody>\n",
       "</table>\n"
      ],
      "text/latex": [
       "A data.frame: 6 × 2\n",
       "\\begin{tabular}{r|ll}\n",
       "  & Var1 & Freq\\\\\n",
       "  & <fct> & <int>\\\\\n",
       "\\hline\n",
       "\t1 & P55\\_ICB\\_TKI     & 4621\\\\\n",
       "\t2 & P76\\_NoICB\\_NoTKI & 7898\\\\\n",
       "\t3 & P90\\_NoICB\\_NoTKI & 8421\\\\\n",
       "\t4 & P906\\_ICB\\_TKI    & 2449\\\\\n",
       "\t5 & P912\\_ICB\\_TKI    &  252\\\\\n",
       "\t6 & P913\\_ICB\\_TKI    & 3570\\\\\n",
       "\\end{tabular}\n"
      ],
      "text/markdown": [
       "\n",
       "A data.frame: 6 × 2\n",
       "\n",
       "| <!--/--> | Var1 &lt;fct&gt; | Freq &lt;int&gt; |\n",
       "|---|---|---|\n",
       "| 1 | P55_ICB_TKI     | 4621 |\n",
       "| 2 | P76_NoICB_NoTKI | 7898 |\n",
       "| 3 | P90_NoICB_NoTKI | 8421 |\n",
       "| 4 | P906_ICB_TKI    | 2449 |\n",
       "| 5 | P912_ICB_TKI    |  252 |\n",
       "| 6 | P913_ICB_TKI    | 3570 |\n",
       "\n"
      ],
      "text/plain": [
       "  Var1            Freq\n",
       "1 P55_ICB_TKI     4621\n",
       "2 P76_NoICB_NoTKI 7898\n",
       "3 P90_NoICB_NoTKI 8421\n",
       "4 P906_ICB_TKI    2449\n",
       "5 P912_ICB_TKI     252\n",
       "6 P913_ICB_TKI    3570"
      ]
     },
     "metadata": {},
     "output_type": "display_data"
    }
   ],
   "source": [
    "counts <- table(dat$SampleID)\n",
    "counts <- data.frame(counts)\n",
    "head(counts)"
   ]
  },
  {
   "cell_type": "code",
   "execution_count": 81,
   "id": "95281b1a",
   "metadata": {},
   "outputs": [
    {
     "data": {
      "text/html": [
       "<strong>pdf:</strong> 2"
      ],
      "text/latex": [
       "\\textbf{pdf:} 2"
      ],
      "text/markdown": [
       "**pdf:** 2"
      ],
      "text/plain": [
       "pdf \n",
       "  2 "
      ]
     },
     "metadata": {},
     "output_type": "display_data"
    }
   ],
   "source": [
    "cells <- ggplot(counts, aes(x=Var1, y=Freq)) +\n",
    "             geom_bar(stat=\"identity\", fill = \"grey\", color = \"black\") + \n",
    "             theme_classic() +\n",
    "             theme(axis.text.x = element_text(angle = 90, vjust = 0.5, hjust=1)) +\n",
    "             xlab(\"\") + ylab(\"\")\n",
    "\n",
    "pdf(\"FigureS1_Cell_Histogram.pdf\", width = 13, height = 5)\n",
    "cells\n",
    "dev.off()"
   ]
  },
  {
   "cell_type": "markdown",
   "id": "7001311d",
   "metadata": {},
   "source": [
    "---\n",
    "## 3.0 Plot dotplot of per sample cell type proportions\n",
    "---\n",
    "\n",
    "Plot proportion of each cell type per patient"
   ]
  },
  {
   "cell_type": "code",
   "execution_count": 70,
   "id": "ff7c9d23",
   "metadata": {},
   "outputs": [],
   "source": [
    "# get cell counts per sample for each cell type\n",
    "cellno <- dat %>% count(Study, SampleID, CellType, sort = FALSE)\n",
    "\n",
    "# get proportion cell type contributes to total cells within each sample\n",
    "cellno <- group_by(cellno, SampleID) %>% mutate(percent = n/sum(n))"
   ]
  },
  {
   "cell_type": "code",
   "execution_count": 71,
   "id": "01394531",
   "metadata": {},
   "outputs": [
    {
     "data": {
      "text/html": [
       "<table>\n",
       "<caption>A grouped_df: 6 × 5</caption>\n",
       "<thead>\n",
       "\t<tr><th scope=col>Study</th><th scope=col>SampleID</th><th scope=col>CellType</th><th scope=col>n</th><th scope=col>percent</th></tr>\n",
       "\t<tr><th scope=col>&lt;chr&gt;</th><th scope=col>&lt;fct&gt;</th><th scope=col>&lt;fct&gt;</th><th scope=col>&lt;int&gt;</th><th scope=col>&lt;dbl&gt;</th></tr>\n",
       "</thead>\n",
       "<tbody>\n",
       "\t<tr><td>Bi-RCC</td><td>P55_ICB_TKI</td><td>B_cells    </td><td> 11</td><td>0.0023804371</td></tr>\n",
       "\t<tr><td>Bi-RCC</td><td>P55_ICB_TKI</td><td>DCs        </td><td> 10</td><td>0.0021640338</td></tr>\n",
       "\t<tr><td>Bi-RCC</td><td>P55_ICB_TKI</td><td>Endothelial</td><td>  1</td><td>0.0002164034</td></tr>\n",
       "\t<tr><td>Bi-RCC</td><td>P55_ICB_TKI</td><td>Macrophages</td><td>663</td><td>0.1434754382</td></tr>\n",
       "\t<tr><td>Bi-RCC</td><td>P55_ICB_TKI</td><td>Malignant  </td><td> 92</td><td>0.0199091106</td></tr>\n",
       "\t<tr><td>Bi-RCC</td><td>P55_ICB_TKI</td><td>Mast_cells </td><td>  4</td><td>0.0008656135</td></tr>\n",
       "</tbody>\n",
       "</table>\n"
      ],
      "text/latex": [
       "A grouped\\_df: 6 × 5\n",
       "\\begin{tabular}{lllll}\n",
       " Study & SampleID & CellType & n & percent\\\\\n",
       " <chr> & <fct> & <fct> & <int> & <dbl>\\\\\n",
       "\\hline\n",
       "\t Bi-RCC & P55\\_ICB\\_TKI & B\\_cells     &  11 & 0.0023804371\\\\\n",
       "\t Bi-RCC & P55\\_ICB\\_TKI & DCs         &  10 & 0.0021640338\\\\\n",
       "\t Bi-RCC & P55\\_ICB\\_TKI & Endothelial &   1 & 0.0002164034\\\\\n",
       "\t Bi-RCC & P55\\_ICB\\_TKI & Macrophages & 663 & 0.1434754382\\\\\n",
       "\t Bi-RCC & P55\\_ICB\\_TKI & Malignant   &  92 & 0.0199091106\\\\\n",
       "\t Bi-RCC & P55\\_ICB\\_TKI & Mast\\_cells  &   4 & 0.0008656135\\\\\n",
       "\\end{tabular}\n"
      ],
      "text/markdown": [
       "\n",
       "A grouped_df: 6 × 5\n",
       "\n",
       "| Study &lt;chr&gt; | SampleID &lt;fct&gt; | CellType &lt;fct&gt; | n &lt;int&gt; | percent &lt;dbl&gt; |\n",
       "|---|---|---|---|---|\n",
       "| Bi-RCC | P55_ICB_TKI | B_cells     |  11 | 0.0023804371 |\n",
       "| Bi-RCC | P55_ICB_TKI | DCs         |  10 | 0.0021640338 |\n",
       "| Bi-RCC | P55_ICB_TKI | Endothelial |   1 | 0.0002164034 |\n",
       "| Bi-RCC | P55_ICB_TKI | Macrophages | 663 | 0.1434754382 |\n",
       "| Bi-RCC | P55_ICB_TKI | Malignant   |  92 | 0.0199091106 |\n",
       "| Bi-RCC | P55_ICB_TKI | Mast_cells  |   4 | 0.0008656135 |\n",
       "\n"
      ],
      "text/plain": [
       "  Study  SampleID    CellType    n   percent     \n",
       "1 Bi-RCC P55_ICB_TKI B_cells      11 0.0023804371\n",
       "2 Bi-RCC P55_ICB_TKI DCs          10 0.0021640338\n",
       "3 Bi-RCC P55_ICB_TKI Endothelial   1 0.0002164034\n",
       "4 Bi-RCC P55_ICB_TKI Macrophages 663 0.1434754382\n",
       "5 Bi-RCC P55_ICB_TKI Malignant    92 0.0199091106\n",
       "6 Bi-RCC P55_ICB_TKI Mast_cells    4 0.0008656135"
      ]
     },
     "metadata": {},
     "output_type": "display_data"
    }
   ],
   "source": [
    "head(cellno)"
   ]
  },
  {
   "cell_type": "code",
   "execution_count": 79,
   "id": "77e04d43",
   "metadata": {},
   "outputs": [
    {
     "data": {
      "text/html": [
       "<strong>pdf:</strong> 2"
      ],
      "text/latex": [
       "\\textbf{pdf:} 2"
      ],
      "text/markdown": [
       "**pdf:** 2"
      ],
      "text/plain": [
       "pdf \n",
       "  2 "
      ]
     },
     "metadata": {},
     "output_type": "display_data"
    }
   ],
   "source": [
    "pdf(\"FigureS1_CellType_Dotplot.pdf\", width = 16, height = 8.5)\n",
    "ggplot(cellno, aes(x = SampleID, y = CellType, fill = n, size = percent)) + \n",
    "    geom_point(pch = 21) +\n",
    "    scale_fill_viridis_c(option = \"plasma\", name = 'Cell Count') +\n",
    "    cowplot::theme_cowplot() +\n",
    "    ylab('') + xlab('') + \n",
    "    theme(axis.text.x = element_text(angle = 90, hjust = 0.95, size = 12)) +\n",
    "    theme(axis.text.y = element_text(size = 15))\n",
    "\n",
    "dev.off()"
   ]
  },
  {
   "cell_type": "code",
   "execution_count": 83,
   "id": "79d76691",
   "metadata": {},
   "outputs": [
    {
     "data": {
      "text/html": [
       "<table>\n",
       "<caption>A grouped_df: 6 × 5</caption>\n",
       "<thead>\n",
       "\t<tr><th scope=col>Study</th><th scope=col>SampleID</th><th scope=col>CellType</th><th scope=col>n</th><th scope=col>percent</th></tr>\n",
       "\t<tr><th scope=col>&lt;chr&gt;</th><th scope=col>&lt;fct&gt;</th><th scope=col>&lt;fct&gt;</th><th scope=col>&lt;int&gt;</th><th scope=col>&lt;dbl&gt;</th></tr>\n",
       "</thead>\n",
       "<tbody>\n",
       "\t<tr><td>Ma-LIHC</td><td>S02_P01_LCP21</td><td>B_cells    </td><td>  6</td><td>0.00867052</td></tr>\n",
       "\t<tr><td>Ma-LIHC</td><td>S02_P01_LCP21</td><td>Endothelial</td><td>219</td><td>0.31647399</td></tr>\n",
       "\t<tr><td>Ma-LIHC</td><td>S02_P01_LCP21</td><td>Macrophages</td><td>  9</td><td>0.01300578</td></tr>\n",
       "\t<tr><td>Ma-LIHC</td><td>S02_P01_LCP21</td><td>T_cells    </td><td>171</td><td>0.24710983</td></tr>\n",
       "\t<tr><td>Ma-LIHC</td><td>S02_P01_LCP21</td><td>CAFs       </td><td>284</td><td>0.41040462</td></tr>\n",
       "\t<tr><td>Ma-LIHC</td><td>S02_P01_LCP21</td><td>HPCs       </td><td>  3</td><td>0.00433526</td></tr>\n",
       "</tbody>\n",
       "</table>\n"
      ],
      "text/latex": [
       "A grouped\\_df: 6 × 5\n",
       "\\begin{tabular}{lllll}\n",
       " Study & SampleID & CellType & n & percent\\\\\n",
       " <chr> & <fct> & <fct> & <int> & <dbl>\\\\\n",
       "\\hline\n",
       "\t Ma-LIHC & S02\\_P01\\_LCP21 & B\\_cells     &   6 & 0.00867052\\\\\n",
       "\t Ma-LIHC & S02\\_P01\\_LCP21 & Endothelial & 219 & 0.31647399\\\\\n",
       "\t Ma-LIHC & S02\\_P01\\_LCP21 & Macrophages &   9 & 0.01300578\\\\\n",
       "\t Ma-LIHC & S02\\_P01\\_LCP21 & T\\_cells     & 171 & 0.24710983\\\\\n",
       "\t Ma-LIHC & S02\\_P01\\_LCP21 & CAFs        & 284 & 0.41040462\\\\\n",
       "\t Ma-LIHC & S02\\_P01\\_LCP21 & HPCs        &   3 & 0.00433526\\\\\n",
       "\\end{tabular}\n"
      ],
      "text/markdown": [
       "\n",
       "A grouped_df: 6 × 5\n",
       "\n",
       "| Study &lt;chr&gt; | SampleID &lt;fct&gt; | CellType &lt;fct&gt; | n &lt;int&gt; | percent &lt;dbl&gt; |\n",
       "|---|---|---|---|---|\n",
       "| Ma-LIHC | S02_P01_LCP21 | B_cells     |   6 | 0.00867052 |\n",
       "| Ma-LIHC | S02_P01_LCP21 | Endothelial | 219 | 0.31647399 |\n",
       "| Ma-LIHC | S02_P01_LCP21 | Macrophages |   9 | 0.01300578 |\n",
       "| Ma-LIHC | S02_P01_LCP21 | T_cells     | 171 | 0.24710983 |\n",
       "| Ma-LIHC | S02_P01_LCP21 | CAFs        | 284 | 0.41040462 |\n",
       "| Ma-LIHC | S02_P01_LCP21 | HPCs        |   3 | 0.00433526 |\n",
       "\n"
      ],
      "text/plain": [
       "  Study   SampleID      CellType    n   percent   \n",
       "1 Ma-LIHC S02_P01_LCP21 B_cells       6 0.00867052\n",
       "2 Ma-LIHC S02_P01_LCP21 Endothelial 219 0.31647399\n",
       "3 Ma-LIHC S02_P01_LCP21 Macrophages   9 0.01300578\n",
       "4 Ma-LIHC S02_P01_LCP21 T_cells     171 0.24710983\n",
       "5 Ma-LIHC S02_P01_LCP21 CAFs        284 0.41040462\n",
       "6 Ma-LIHC S02_P01_LCP21 HPCs          3 0.00433526"
      ]
     },
     "metadata": {},
     "output_type": "display_data"
    }
   ],
   "source": [
    "head(cellno[cellno$Study == \"Ma-LIHC\", ])"
   ]
  },
  {
   "cell_type": "code",
   "execution_count": null,
   "id": "006fa715",
   "metadata": {},
   "outputs": [],
   "source": []
  }
 ],
 "metadata": {
  "kernelspec": {
   "display_name": "R",
   "language": "R",
   "name": "ir"
  },
  "language_info": {
   "codemirror_mode": "r",
   "file_extension": ".r",
   "mimetype": "text/x-r-source",
   "name": "R",
   "pygments_lexer": "r",
   "version": "3.6.3"
  }
 },
 "nbformat": 4,
 "nbformat_minor": 5
}
