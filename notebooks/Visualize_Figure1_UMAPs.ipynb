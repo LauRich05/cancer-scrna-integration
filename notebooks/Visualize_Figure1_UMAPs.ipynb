{
 "cells": [
  {
   "cell_type": "markdown",
   "id": "c1a8b98e",
   "metadata": {},
   "source": [
    "---\n",
    "# Visualize UMAPs of different batch correction methods across datasets\n",
    "*L.Richards*  \n",
    "*2021-06-14*  \n",
    "*/cluster/projects/pughlab/projects/cancer_scrna_integration/figures* \n",
    "\n",
    "---\n",
    "\n",
    "Plot 1 grid for each dataset. Grid has 6 columns for each of the methods + uncorrected, and 3 rows coloring cells by sampleID, patientID and cell type. "
   ]
  },
  {
   "cell_type": "code",
   "execution_count": null,
   "id": "9e332150",
   "metadata": {},
   "outputs": [],
   "source": []
  }
 ],
 "metadata": {
  "kernelspec": {
   "display_name": "R",
   "language": "R",
   "name": "ir"
  },
  "language_info": {
   "codemirror_mode": "r",
   "file_extension": ".r",
   "mimetype": "text/x-r-source",
   "name": "R",
   "pygments_lexer": "r",
   "version": "3.6.3"
  }
 },
 "nbformat": 4,
 "nbformat_minor": 5
}
