{
 "cells": [
  {
   "cell_type": "markdown",
   "metadata": {},
   "source": [
    "---\n",
    "# Dataset Formatting: Caron-ALL\n",
    "*L.Richards*  \n",
    "*2020-06-08*  \n",
    "*/cluster/projects/pughlab/projects/cancer_scrna_integration/data/Caron-ALL/*  \n",
    "\n",
    "---\n",
    "\n",
    "Format Caron-ALL dataset. Emailed the authors to obtain cell level metadata/ This will be input for data integration tools. https://www.nature.com/articles/s41598-020-64929-x"
   ]
  },
  {
   "cell_type": "code",
   "execution_count": null,
   "metadata": {
    "collapsed": true
   },
   "outputs": [],
   "source": [
    "library(Seurat) #v4.0.1\n",
    "library(earlycross) # v0.1\n",
    "library(Matrix)\n",
    "\n",
    "# load custom functions\n",
    "source(\"~/github/oicr-brain-tri-gbm/src/scRNA_helper_functions.r\")"
   ]
  },
  {
   "cell_type": "markdown",
   "metadata": {},
   "source": [
    "---\n",
    "## 1.0 Format downloaded public data\n",
    "---\n",
    "\n",
    "Downloaded data from https://www.ncbi.nlm.nih.gov/geo/query/acc.cgi?acc=GSE132509"
   ]
  },
  {
   "cell_type": "code",
   "execution_count": null,
   "metadata": {
    "collapsed": true
   },
   "outputs": [],
   "source": [
    "# load cell level metadata\n",
    "# 38922 cells\n",
    "meta <- read.table(\"./original-data/metadata.tsv\", sep = \"\\t\")\n",
    "rownames(meta) <- gsub(\"-\", \".\", rownames(meta))\n",
    "\n",
    "# make a SampleID column\n",
    "# split it off the cell barcode\n",
    "id <- sapply(strsplit(rownames(meta),\"_\"), `[`, 1)\n",
    "meta$SampleID <- id\n",
    "\n",
    "# make a patientID column\n",
    "meta$PatientID <- id\n",
    "\n",
    "# clean up cell type labels\n",
    "# turn sample labels into malignant\n",
    "# we are going to need to add our own annotations to this...\n",
    "# need to cluster and split up B+Mono and T+NK cells\n",
    "meta$CellType <- meta$celltype\n",
    "meta$CellType <- gsub(\"ETV6.RUNX1.1\", \"Malignant\", meta$CellType)\n",
    "meta$CellType <- gsub(\"ETV6.RUNX1.2\", \"Malignant\", meta$CellType)\n",
    "meta$CellType <- gsub(\"ETV6.RUNX1.3\", \"Malignant\", meta$CellType)\n",
    "meta$CellType <- gsub(\"ETV6.RUNX1.4\", \"Malignant\", meta$CellType)\n",
    "meta$CellType <- gsub(\"HHD.1\", \"Malignant\", meta$CellType)\n",
    "meta$CellType <- gsub(\"HHD.2\", \"Malignant\", meta$CellType)\n",
    "meta$CellType <- gsub(\"PRE-T.1\", \"Malignant\", meta$CellType)\n",
    "meta$CellType <- gsub(\"PRE-T.2\", \"Malignant\", meta$CellType)\n",
    "\n",
    "# make a cell barcode column\n",
    "meta$CellBarcode <- rownames(meta)"
   ]
  },
  {
   "cell_type": "code",
   "execution_count": null,
   "metadata": {
    "collapsed": true
   },
   "outputs": [],
   "source": [
    "# PBMCCs have .1 at the end, but not all of them do -_-\n",
    "# need to manually fix this matrix\n",
    "\n",
    "file <- \"GSM3872442_PBMMC_1\"\n",
    "sample <- \"PBMMC.1\"\n",
    "\n",
    "# read in sparse counts matrix\n",
    "barcode.path <- paste0(matrix_dir, file, \".\", \"barcodes.tsv.gz\")\n",
    "features.path <- paste0(matrix_dir, file, \".\", \"genes.tsv.gz\")\n",
    "matrix.path <- paste0(matrix_dir, file, \".\", \"matrix.mtx.gz\")\n",
    "mat <- readMM(file = matrix.path)\n",
    "feature.names <- read.delim(features.path,\n",
    "                            header = FALSE,\n",
    "                            stringsAsFactors = FALSE)\n",
    "barcode.names <- read.delim(barcode.path,\n",
    "                            header = FALSE,\n",
    "                            stringsAsFactors = FALSE)\n",
    "colnames(mat) <- barcode.names$V1\n",
    "rownames(mat) <- feature.names$V2\n",
    "    \n",
    "# format barcodes to match metadata provided by authors\n",
    "colnames(mat) <- sapply(strsplit(colnames(mat),\"-\"), `[`, 1)\n",
    "colnames(mat) <- paste0(sample, \"_\", colnames(mat))\n",
    "\n",
    "# sanity check\n",
    "print(file)\n",
    "print(table(colnames(mat) %in% rownames(meta)))\n",
    "\n",
    "# check rownames for PBMCC meta\n",
    "newCBs <- gsub('.{2}$', '', rownames(meta)[grep(\"PBMMC.1\", rownames(meta))])\n",
    "meta$CellBarcode[grep(\"PBMMC.1\", rownames(meta))] <- newCBs\n",
    "meta <- meta[!duplicated(meta$CellBarcode), ]\n",
    "rownames(meta) <- meta$CellBarcode\n",
    "\n",
    "# remove barcodes that are not in metadata\n",
    "# probably represent poor quality ones\n",
    "mat <- mat[ ,colnames(mat) %in% rownames(meta)]\n",
    "print(table(colnames(mat) %in% rownames(meta)))\n",
    "    \n",
    "counts[[samples[i]]] <- mat"
   ]
  },
  {
   "cell_type": "code",
   "execution_count": null,
   "metadata": {
    "collapsed": true
   },
   "outputs": [],
   "source": [
    "# read in count matrices and merge\n",
    "\n",
    "# extract samlpe and file name for each mtx\n",
    "matrix_dir <- \"/cluster/projects/pughlab/projects/cancer_scrna_integration/data/Caron-ALL/original-data/\"\n",
    "files <- list.files(matrix_dir, pattern = \"gz\")\n",
    "files  <- sapply(strsplit(files,\"\\\\.\"), `[`, 1)\n",
    "files <- unique(files)\n",
    "samples <- paste0(sapply(strsplit(files,\"_\"), `[`, 2),\n",
    "                  \".\",\n",
    "                  sapply(strsplit(files,\"_\"), `[`, 3)\n",
    "                  )\n",
    "samples <- gsub(\"-\", \".\", samples)\n",
    "table(samples %in% meta$SampleID) # SANITY CHECK - looks good\n",
    "\n",
    "\n",
    "# read in each samples count matrix\n",
    "seurats <- list()\n",
    "\n",
    "for(i in 1:length(files)){\n",
    "    \n",
    "    # read in sparse counts matrix\n",
    "    barcode.path <- paste0(matrix_dir, files[i], \".\", \"barcodes.tsv.gz\")\n",
    "    features.path <- paste0(matrix_dir, files[i], \".\", \"genes.tsv.gz\")\n",
    "    matrix.path <- paste0(matrix_dir, files[i], \".\", \"matrix.mtx.gz\")\n",
    "    mat <- readMM(file = matrix.path)\n",
    "    feature.names <- read.delim(features.path,\n",
    "                                header = FALSE,\n",
    "                                stringsAsFactors = FALSE)\n",
    "    barcode.names <- read.delim(barcode.path,\n",
    "                                header = FALSE,\n",
    "                                stringsAsFactors = FALSE)\n",
    "    colnames(mat) <- barcode.names$V1\n",
    "    rownames(mat) <- feature.names$V2\n",
    "    \n",
    "    # format barcodes to match metadata provided by authors\n",
    "    colnames(mat) <- sapply(strsplit(colnames(mat),\"-\"), `[`, 1)\n",
    "    colnames(mat) <- paste0(samples[i], \"_\", colnames(mat))\n",
    "    \n",
    "    # sanity check\n",
    "    print(files[i])\n",
    "    print(table(colnames(mat) %in% rownames(meta)))\n",
    "    \n",
    "    # remove barcodes that are not in metadata\n",
    "    # probably represent poor quality ones\n",
    "    mat <- mat[ ,colnames(mat) %in% rownames(meta)]\n",
    "    print(table(colnames(mat) %in% rownames(meta)))\n",
    "    \n",
    "    seurats[[samples[i]]] <- CreateSeuratObject(counts = mat)\n",
    "    \n",
    "}"
   ]
  },
  {
   "cell_type": "code",
   "execution_count": null,
   "metadata": {
    "collapsed": true
   },
   "outputs": [],
   "source": [
    "# merge seurat objects together\n",
    "combo <- merge(seurats[[1]], seurats[2:11])\n",
    "combo <- AddMetaData(combo, metadata = meta)"
   ]
  },
  {
   "cell_type": "code",
   "execution_count": null,
   "metadata": {
    "collapsed": true
   },
   "outputs": [],
   "source": [
    "# cluster the cells\n",
    "combo <- quickCluster(combo,\n",
    "                        normalize = TRUE,\n",
    "                        vars.to.regress = NULL,\n",
    "                        #k.param = 20,\n",
    "                        dims = 20, # max dims 1:dims\n",
    "                        n.vargenes = 2000,\n",
    "                        min.resolution = 1.5,\n",
    "                        max.resolution = 1.5,\n",
    "                        n.resolution = 1, #how many resolutions to cluster over\n",
    "                        verbose = FALSE,\n",
    "                        pc.calc = 75, # how many PCs to calculate\n",
    "                        pca.genes = \"var\" # accepts \"all\" or \"var\"\n",
    "                       )\n",
    "\n",
    "# save intermediate file\n",
    "saveRDS(combo, file = \"Caron-ALL_seurat.rds\")"
   ]
  },
  {
   "cell_type": "markdown",
   "metadata": {},
   "source": [
    "---\n",
    "## 2.0 Correct author-provided cell labels\n",
    "---\n",
    "\n",
    "Use gene marker expression to split \"B cells + Mono\" into \"B_cells\" & \"Macrophages\", and \"T cells + NK\" into \"T_cells\" & \"NK_cells\""
   ]
  },
  {
   "cell_type": "code",
   "execution_count": null,
   "metadata": {
    "collapsed": true
   },
   "outputs": [],
   "source": [
    "# Plot transcriptional clusters\n",
    "pdf(\"Caron-ALL_clusters_umap.pdf\")\n",
    "DimPlot(combo, label = T)\n",
    "DimPlot(combo, group.by = \"CellType\", label = F)\n",
    "dev.off()"
   ]
  },
  {
   "cell_type": "code",
   "execution_count": null,
   "metadata": {
    "collapsed": true
   },
   "outputs": [],
   "source": [
    "# Plot gene expression markers for B cells and Macs\n",
    "pdf(\"Caron-ALL_B_Mac_markers_umap.pdf\", width = 10, height = 5)\n",
    "FeaturePlot(combo,\n",
    "            features = c(\"MS4A1\", \"BANK1\", # B cells\n",
    "                         \"CD14\", \"LYZ\", \"FCGR3A\", \"MS4A7\"), # MoMacs\n",
    "            ncol = 3,\n",
    "            raster = TRUE\n",
    "           )\n",
    "dev.off()\n",
    "\n",
    "# Plot gene expression markers for T & NK cells\n",
    "pdf(\"Caron-ALL_T_NK_markers_umap.pdf\", width = 10, height = 5)\n",
    "FeaturePlot(combo, \n",
    "            features = c(\"GNLY\", \"NKG7\", # NK cells\n",
    "                         \"CD8A\", \"CD3G\", \"CD2\"\n",
    "                        ),\n",
    "            raster = TRUE,\n",
    "            ncol = 3\n",
    "           )\n",
    "dev.off()\n",
    "\n"
   ]
  },
  {
   "cell_type": "code",
   "execution_count": null,
   "metadata": {
    "collapsed": true
   },
   "outputs": [],
   "source": [
    "# cluster 20 is B cells, the rest are MoMacs, just label as macrophages\n",
    "# fix cell type labels\n",
    "combo@meta.data$CellType[grep(20, combo@meta.data$seurat_clusters)] <- \"B_cells\"\n",
    "\n",
    "Macrophages <- c(13, 18, 37, 27, 34)\n",
    "combo@meta.data$CellType[combo@meta.data$seurat_clusters %in% Macrophages] <- \"Macrophages\"\n",
    "\n",
    "\n",
    "# cluster 21 is NK cells, rest are T cells\n",
    "# update CellType labels\n",
    "NK <- c(21)\n",
    "combo@meta.data$CellType[combo@meta.data$seurat_clusters %in% NK] <- \"NK_cells\"\n",
    "\n",
    "Tcells <- c(28, 30, 19, 7, 25)\n",
    "combo@meta.data$CellType[combo@meta.data$seurat_clusters %in% Tcells] <- \"T_cells\""
   ]
  },
  {
   "cell_type": "code",
   "execution_count": null,
   "metadata": {
    "collapsed": true
   },
   "outputs": [],
   "source": [
    "# remove any cells with old labels\n",
    "Idents(combo) <- \"CellType\"\n",
    "\n",
    "combo <- subset(combo, \n",
    "                idents = c(\"B cells + Mono\", \"T cells + NK\"), \n",
    "                invert = TRUE\n",
    "               )"
   ]
  },
  {
   "cell_type": "code",
   "execution_count": null,
   "metadata": {
    "collapsed": true
   },
   "outputs": [],
   "source": [
    "# replot UMAP\n",
    "pdf(\"Caron-ALL_clusters_umap_v2.pdf\")\n",
    "DimPlot(combo, group.by = \"seurat_clusters\", label = T, raster = T)\n",
    "DimPlot(combo, group.by = \"CellType\", label = F, raster = T)\n",
    "dev.off()"
   ]
  },
  {
   "cell_type": "code",
   "execution_count": null,
   "metadata": {
    "collapsed": true
   },
   "outputs": [],
   "source": [
    "# save seurat object with updated cell annotations\n",
    "saveRDS(combo, file = \"Caron-ALL_seurat.rds\")"
   ]
  },
  {
   "cell_type": "markdown",
   "metadata": {},
   "source": [
    "---\n",
    "## 3.0 Output files in 10x common format\n",
    "---\n",
    "\n",
    "Output counts matrix with 10x/CellRanger formatting style and metadata csv."
   ]
  },
  {
   "cell_type": "code",
   "execution_count": null,
   "metadata": {
    "collapsed": true
   },
   "outputs": [],
   "source": [
    "# save metadata as csv file\n",
    "meta <- data.frame(combo@meta.data)\n",
    "write.csv(meta, file = \"Caron-ALL_meta.csv\")"
   ]
  },
  {
   "cell_type": "code",
   "execution_count": null,
   "metadata": {
    "collapsed": true
   },
   "outputs": [],
   "source": [
    "# export count matrix as default 10x CellRanger output\n",
    "Write10X(combo, dir = \"./\")"
   ]
  },
  {
   "cell_type": "markdown",
   "metadata": {},
   "source": [
    "---"
   ]
  }
 ],
 "metadata": {
  "kernelspec": {
   "display_name": "R",
   "language": "R",
   "name": "ir"
  },
  "language_info": {
   "codemirror_mode": "r",
   "file_extension": ".r",
   "mimetype": "text/x-r-source",
   "name": "R",
   "pygments_lexer": "r",
   "version": "3.6.3"
  }
 },
 "nbformat": 4,
 "nbformat_minor": 2
}
