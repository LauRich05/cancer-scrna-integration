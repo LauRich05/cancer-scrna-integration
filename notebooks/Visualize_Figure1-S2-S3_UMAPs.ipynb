{
 "cells": [
  {
   "cell_type": "markdown",
   "id": "c1a8b98e",
   "metadata": {},
   "source": [
    "---\n",
    "## Visualize UMAPs of different batch correction methods across datasets\n",
    "*L.Richards*  \n",
    "*2021-06-14*  \n",
    "*/cluster/projects/pughlab/projects/cancer_scrna_integration/figures* \n",
    "\n",
    "---\n",
    "\n",
    "Plot 1 grid for each dataset. Grid has 6 columns for each of the methods + uncorrected, and 3 rows coloring cells by sampleID, patientID and cell type. "
   ]
  },
  {
   "cell_type": "markdown",
   "id": "48273c4c",
   "metadata": {},
   "source": [
    "---\n",
    "### 1.0 Extract metadata from all datasets and integrations (H4H)\n",
    "---\n",
    "\n",
    "Output metadata so we can plot locally "
   ]
  },
  {
   "cell_type": "code",
   "execution_count": null,
   "id": "5614121a",
   "metadata": {},
   "outputs": [],
   "source": [
    "library(Seurat)\n",
    "library(taRifx)\n",
    "\n",
    "# set up paramters\n",
    "integration.results <- \"~/pughlab/projects/cancer_scrna_integration/integration\"\n",
    "files <- list.files(integration.results, pattern = \".rds$\")\n",
    "\n",
    "# for each study, harmonize the metadata columns\n",
    "# SampleID, PatientID, CellType\n",
    "# and extract coords for each integration"
   ]
  },
  {
   "cell_type": "markdown",
   "id": "7b185ecb",
   "metadata": {},
   "source": [
    "#### 1.1 Caron-ALL"
   ]
  },
  {
   "cell_type": "code",
   "execution_count": null,
   "id": "03544ecc",
   "metadata": {},
   "outputs": [],
   "source": [
    "# 1) Caron-ALL \n",
    "# already has SampleID, PatientID and CellType in @meta.data\n",
    "\n",
    "study <- \"Caron-ALL\"\n",
    "study.files <- files[grep(study, files)]\n",
    "metas <- list()\n",
    "\n",
    "for (i in 1:length(study.files)){\n",
    "    \n",
    "   dat <- readRDS(study.files[i])\n",
    "   dat@meta.data$Dataset <- study\n",
    "   dat@meta.data$Method <- strsplit(study.files[i], \"_\")[[1]][2]\n",
    "   \n",
    "   # extract reduction coordinates for method\n",
    "   if(unique(dat@meta.data$Method) == \"Conos\"){\n",
    "       \n",
    "       dat@meta.data$Reduction <- \"LARGEVIS\"\n",
    "       dat@meta.data$Coords_1 <- dat@reductions$largeVis@cell.embeddings[ ,1]\n",
    "       dat@meta.data$Coords_2 <- dat@reductions$largeVis@cell.embeddings[ ,2]\n",
    "       \n",
    "   } else {\n",
    "       \n",
    "       dat@meta.data$Reduction <- \"UMAP\"\n",
    "       dat@meta.data$Coords_1 <- dat@reductions$umap@cell.embeddings[ ,1]\n",
    "       dat@meta.data$Coords_2 <- dat@reductions$umap@cell.embeddings[ ,2]\n",
    "   }\n",
    "    \n",
    "   # filter metadata file to relevant columns\n",
    "   keep <- c(\"Dataset\", \"Method\", \n",
    "             \"SampleID\", \"PatientID\",\n",
    "             \"CellType\", \"Reduction\",\n",
    "             \"Coords_1\", \"Coords_2\"\n",
    "            )\n",
    "  \n",
    "   metas[[unique(dat@meta.data$Method)]] <- dat@meta.data[ ,keep]\n",
    "   metas[[unique(dat@meta.data$Method)]] <- remove.factors(metas[[unique(dat@meta.data$Method)]])\n",
    "\n",
    "}\n",
    "\n",
    "# combine metadata across methods into one big df\n",
    "metas <- do.call(rbind, metas)\n",
    "\n",
    "# save results dataframe\n",
    "meta.file <- paste0(\"~/pughlab/projects/cancer_scrna_integration/figures/\",\n",
    "                    study, \"_MergedMeta.csv\"\n",
    "                   )\n",
    "write.csv(metas, file = meta.file)"
   ]
  },
  {
   "cell_type": "markdown",
   "id": "02f2e60f",
   "metadata": {},
   "source": [
    "#### 1.2 Ma-LIHC"
   ]
  },
  {
   "cell_type": "code",
   "execution_count": null,
   "id": "6d3e8774",
   "metadata": {},
   "outputs": [],
   "source": [
    "# 2) Ma-LIHC\n",
    "\n",
    "study <- \"Ma-LIHC\"\n",
    "study.files <- files[grep(study, files)]\n",
    "metas <- list()\n",
    "\n",
    "for (i in 1:length(study.files)){\n",
    "    \n",
    "   dat <- readRDS(study.files[i])\n",
    "   dat@meta.data$Dataset <- study\n",
    "   dat@meta.data$Method <- strsplit(study.files[i], \"_\")[[1]][2]\n",
    "\n",
    "   # rename appropiate meta columns\n",
    "   colnames(dat@meta.data)[grep(\"Sample\", colnames(dat@meta.data))] <- \"SampleID\"\n",
    "   dat@meta.data$PatientID <- dat@meta.data$SampleID\n",
    "   \n",
    "   # extract reduction coordinates for method\n",
    "   if(unique(dat@meta.data$Method) == \"Conos\"){\n",
    "       \n",
    "       dat@meta.data$Reduction <- \"LARGEVIS\"\n",
    "       dat@meta.data$Coords_1 <- dat@reductions$largeVis@cell.embeddings[ ,1]\n",
    "       dat@meta.data$Coords_2 <- dat@reductions$largeVis@cell.embeddings[ ,2]\n",
    "       \n",
    "   } else {\n",
    "       \n",
    "       dat@meta.data$Reduction <- \"UMAP\"\n",
    "       dat@meta.data$Coords_1 <- dat@reductions$umap@cell.embeddings[ ,1]\n",
    "       dat@meta.data$Coords_2 <- dat@reductions$umap@cell.embeddings[ ,2]\n",
    "   }\n",
    "    \n",
    "   # filter metadata file to relevant columns\n",
    "   keep <- c(\"Dataset\", \"Method\", \n",
    "             \"SampleID\", \"PatientID\",\n",
    "             \"CellType\", \"Reduction\",\n",
    "             \"Coords_1\", \"Coords_2\"\n",
    "            )\n",
    "  \n",
    "   metas[[unique(dat@meta.data$Method)]] <- dat@meta.data[ ,keep]\n",
    "   metas[[unique(dat@meta.data$Method)]] <- remove.factors(metas[[unique(dat@meta.data$Method)]])\n",
    "\n",
    "}\n",
    "\n",
    "# combine metadata across methods into one big df\n",
    "metas <- do.call(rbind, metas)\n",
    "\n",
    "# save results dataframe\n",
    "meta.file <- paste0(\"~/pughlab/projects/cancer_scrna_integration/figures/\",\n",
    "                    study, \"_MergedMeta.csv\"\n",
    "                   )\n",
    "write.csv(metas, file = meta.file)"
   ]
  },
  {
   "cell_type": "markdown",
   "id": "59631924",
   "metadata": {},
   "source": [
    "#### 1.3 Yost-BCC"
   ]
  },
  {
   "cell_type": "code",
   "execution_count": null,
   "id": "ad97a67f",
   "metadata": {},
   "outputs": [],
   "source": [
    "# 3) Yost-BCC\n",
    "\n",
    "study <- \"Yost-BCC\"\n",
    "study.files <- files[grep(study, files)]\n",
    "metas <- list()\n",
    "\n",
    "for (i in 1:length(study.files)){\n",
    "    \n",
    "   dat <- readRDS(study.files[i])\n",
    "   dat@meta.data$Dataset <- study\n",
    "   dat@meta.data$Method <- strsplit(study.files[i], \"_\")[[1]][2]\n",
    "\n",
    "   # rename appropiate meta columns\n",
    "   colnames(dat@meta.data)[grep(\"patient\", colnames(dat@meta.data))] <- \"PatientID\"\n",
    "   \n",
    "   # extract reduction coordinates for method\n",
    "   if(unique(dat@meta.data$Method) == \"Conos\"){\n",
    "       \n",
    "       dat@meta.data$Reduction <- \"LARGEVIS\"\n",
    "       dat@meta.data$Coords_1 <- dat@reductions$largeVis@cell.embeddings[ ,1]\n",
    "       dat@meta.data$Coords_2 <- dat@reductions$largeVis@cell.embeddings[ ,2]\n",
    "       \n",
    "   } else {\n",
    "       \n",
    "       dat@meta.data$Reduction <- \"UMAP\"\n",
    "       dat@meta.data$Coords_1 <- dat@reductions$umap@cell.embeddings[ ,1]\n",
    "       dat@meta.data$Coords_2 <- dat@reductions$umap@cell.embeddings[ ,2]\n",
    "   }\n",
    "    \n",
    "   # filter metadata file to relevant columns\n",
    "   keep <- c(\"Dataset\", \"Method\", \n",
    "             \"SampleID\", \"PatientID\",\n",
    "             \"CellType\", \"Reduction\",\n",
    "             \"Coords_1\", \"Coords_2\"\n",
    "            )\n",
    "  \n",
    "   metas[[unique(dat@meta.data$Method)]] <- dat@meta.data[ ,keep]\n",
    "   metas[[unique(dat@meta.data$Method)]] <- remove.factors(metas[[unique(dat@meta.data$Method)]])\n",
    "\n",
    "}\n",
    "\n",
    "# combine metadata across methods into one big df\n",
    "metas <- do.call(rbind, metas)\n",
    "\n",
    "# save results dataframe\n",
    "meta.file <- paste0(\"~/pughlab/projects/cancer_scrna_integration/figures/\",\n",
    "                    study, \"_MergedMeta.csv\"\n",
    "                   )\n",
    "write.csv(metas, file = meta.file)"
   ]
  },
  {
   "cell_type": "markdown",
   "id": "23c1d35f",
   "metadata": {},
   "source": [
    "#### 1.4 Richards-GBM-LGG"
   ]
  },
  {
   "cell_type": "code",
   "execution_count": null,
   "id": "36c260a3",
   "metadata": {},
   "outputs": [],
   "source": [
    "# 4) Richards-GBM-LGG\n",
    "\n",
    "study <- \"Richards-GBM-LGG\"\n",
    "study.files <- files[grep(study, files)]\n",
    "metas <- list()\n",
    "\n",
    "for (i in 1:length(study.files)){\n",
    "    \n",
    "   dat <- readRDS(study.files[i])\n",
    "   dat@meta.data$Dataset <- study\n",
    "   dat@meta.data$Method <- strsplit(study.files[i], \"_\")[[1]][2]\n",
    "\n",
    "   # rename appropiate meta columns\n",
    "   colnames(dat@meta.data)[grep(\"PairID\", colnames(dat@meta.data))] <- \"PatientID\"\n",
    "   colnames(dat@meta.data)[grep(\"SingleR_CollapsedLabels\", colnames(dat@meta.data))] <- \"CellType\"\n",
    "    \n",
    "   # rename cell labels to match other studies\n",
    "   dat@meta.data$CellType <- gsub(\"Tcell\", \"T_cells\", dat@meta.data$CellType)\n",
    "   dat@meta.data$CellType <- gsub(\"Vascular\", \"Endothelial\", dat@meta.data$CellType)\n",
    "   dat@meta.data$CellType <- gsub(\"Macrophage\", \"Macrophages\", dat@meta.data$CellType)\n",
    "   dat@meta.data$CellType <- gsub(\"Microglia\", \"Macrophages\", dat@meta.data$CellType)\n",
    "   \n",
    "   # extract reduction coordinates for method\n",
    "   if(unique(dat@meta.data$Method) == \"Conos\"){\n",
    "       \n",
    "       dat@meta.data$Reduction <- \"LARGEVIS\"\n",
    "       dat@meta.data$Coords_1 <- dat@reductions$largeVis@cell.embeddings[ ,1]\n",
    "       dat@meta.data$Coords_2 <- dat@reductions$largeVis@cell.embeddings[ ,2]\n",
    "       \n",
    "   } else {\n",
    "       \n",
    "       dat@meta.data$Reduction <- \"UMAP\"\n",
    "       dat@meta.data$Coords_1 <- dat@reductions$umap@cell.embeddings[ ,1]\n",
    "       dat@meta.data$Coords_2 <- dat@reductions$umap@cell.embeddings[ ,2]\n",
    "   }\n",
    "    \n",
    "   # filter metadata file to relevant columns\n",
    "   keep <- c(\"Dataset\", \"Method\", \n",
    "             \"SampleID\", \"PatientID\",\n",
    "             \"CellType\", \"Reduction\",\n",
    "             \"Coords_1\", \"Coords_2\"\n",
    "            )\n",
    "  \n",
    "   metas[[unique(dat@meta.data$Method)]] <- dat@meta.data[ ,keep]\n",
    "   metas[[unique(dat@meta.data$Method)]] <- remove.factors(metas[[unique(dat@meta.data$Method)]])\n",
    "\n",
    "}\n",
    "\n",
    "# combine metadata across methods into one big df\n",
    "metas <- do.call(rbind, metas)\n",
    "\n",
    "# save results dataframe\n",
    "meta.file <- paste0(\"~/pughlab/projects/cancer_scrna_integration/figures/\",\n",
    "                    study, \"_MergedMeta.csv\"\n",
    "                   )\n",
    "write.csv(metas, file = meta.file)"
   ]
  },
  {
   "cell_type": "markdown",
   "id": "35e4114b",
   "metadata": {},
   "source": [
    "#### 1.5 Bi-RCC"
   ]
  },
  {
   "cell_type": "code",
   "execution_count": null,
   "id": "6e3ffc69",
   "metadata": {},
   "outputs": [],
   "source": [
    "# 3) Bi-RCC\n",
    "\n",
    "study <- \"Bi-RCC\"\n",
    "study.files <- files[grep(study, files)]\n",
    "metas <- list()\n",
    "\n",
    "for (i in 1:length(study.files)){\n",
    "    \n",
    "   dat <- readRDS(study.files[i])\n",
    "   dat@meta.data$Dataset <- study\n",
    "   dat@meta.data$Method <- strsplit(study.files[i], \"_\")[[1]][2]\n",
    "\n",
    "   # rename appropiate meta columns\n",
    "   # colnames(dat@meta.data)[grep(\"patient\", colnames(dat@meta.data))] <- \"PatientID\"\n",
    "   \n",
    "   # extract reduction coordinates for method\n",
    "   if(unique(dat@meta.data$Method) == \"Conos\"){\n",
    "       \n",
    "       dat@meta.data$Reduction <- \"LARGEVIS\"\n",
    "       dat@meta.data$Coords_1 <- dat@reductions$largeVis@cell.embeddings[ ,1]\n",
    "       dat@meta.data$Coords_2 <- dat@reductions$largeVis@cell.embeddings[ ,2]\n",
    "       \n",
    "   } else {\n",
    "       \n",
    "       dat@meta.data$Reduction <- \"UMAP\"\n",
    "       dat@meta.data$Coords_1 <- dat@reductions$umap@cell.embeddings[ ,1]\n",
    "       dat@meta.data$Coords_2 <- dat@reductions$umap@cell.embeddings[ ,2]\n",
    "   }\n",
    "    \n",
    "   # filter metadata file to relevant columns\n",
    "   keep <- c(\"Dataset\", \"Method\", \n",
    "             \"SampleID\", \"PatientID\",\n",
    "             \"CellType\", \"Reduction\",\n",
    "             \"Coords_1\", \"Coords_2\"\n",
    "            )\n",
    "  \n",
    "   metas[[unique(dat@meta.data$Method)]] <- dat@meta.data[ ,keep]\n",
    "   metas[[unique(dat@meta.data$Method)]] <- remove.factors(metas[[unique(dat@meta.data$Method)]])\n",
    "\n",
    "}\n",
    "\n",
    "# combine metadata across methods into one big df\n",
    "metas <- do.call(rbind, metas)\n",
    "\n",
    "# save results dataframe\n",
    "meta.file <- paste0(\"~/pughlab/projects/cancer_scrna_integration/figures/\",\n",
    "                    study, \"_MergedMeta.csv\"\n",
    "                   )\n",
    "write.csv(metas, file = meta.file)"
   ]
  },
  {
   "cell_type": "markdown",
   "id": "d1b2c372",
   "metadata": {},
   "source": [
    "---\n",
    "### 2.0 Plot UMAPs across datasets and methods (local)\n",
    "---"
   ]
  },
  {
   "cell_type": "code",
   "execution_count": 1,
   "id": "403ed2b7",
   "metadata": {},
   "outputs": [
    {
     "name": "stderr",
     "output_type": "stream",
     "text": [
      "\n",
      "Attaching package: ‘dplyr’\n",
      "\n",
      "\n",
      "The following objects are masked from ‘package:data.table’:\n",
      "\n",
      "    between, first, last\n",
      "\n",
      "\n",
      "The following object is masked from ‘package:gridExtra’:\n",
      "\n",
      "    combine\n",
      "\n",
      "\n",
      "The following objects are masked from ‘package:stats’:\n",
      "\n",
      "    filter, lag\n",
      "\n",
      "\n",
      "The following objects are masked from ‘package:base’:\n",
      "\n",
      "    intersect, setdiff, setequal, union\n",
      "\n",
      "\n",
      "\n",
      "Attaching package: ‘cowplot’\n",
      "\n",
      "\n",
      "The following object is masked from ‘package:ggpubr’:\n",
      "\n",
      "    get_legend\n",
      "\n",
      "\n"
     ]
    }
   ],
   "source": [
    "library(ggplot2)\n",
    "library(ggpubr)\n",
    "library(ggExtra)\n",
    "library(gridExtra)\n",
    "library(data.table)\n",
    "library(ggrepel)\n",
    "library(dplyr)\n",
    "library(cowplot)\n",
    "\n",
    "setwd(\"~/Desktop/H4H/pughlab/projects/cancer_scrna_integration/figures/\")"
   ]
  },
  {
   "cell_type": "code",
   "execution_count": 2,
   "id": "7b4a175a",
   "metadata": {},
   "outputs": [],
   "source": [
    "# define universal color scheme for cell types across all studies\n",
    "celltypes <- c(\"Malignant\", \"T_cells\", \n",
    "               \"B_cells\", \"NK_cells\", \"Macrophages\",\n",
    "               \"CAFs\", \"Endothelial\", \n",
    "               \n",
    "               \"Erythrocytes\", # only in ALL\n",
    "               \n",
    "               \"HPCs\", # only in liver\n",
    "               \n",
    "               \"Astrocyte\", \"Neuron\", #only in glioma\n",
    "               \"Oligodendrocyte\", \n",
    "               \n",
    "               \"Melanocytes\", \"DCs\", # only in BCC\n",
    "               \"Myofibroblasts\", \"NK_cells\", \"pDC\",\n",
    "               \"Plasma_cells\"\n",
    "              )\n",
    "\n",
    "celltypes.col <- c(\"#7570b3\", \"#e7298a\", \n",
    "                   \"#e6ab02\", \"#66a61e\", \"#a6761d\",\n",
    "                   \"#d95f02\", \"#1b9e77\", \n",
    "               \n",
    "                   \"#1b9e77\", # only in ALL\n",
    "               \n",
    "                   \"black\", # only in liver\n",
    "               \n",
    "                   \"blue\", \"darkgrey\", #only in glioma\n",
    "                   \"#e31a1c\", \n",
    "               \n",
    "                   \"blue\", \"darkgrey\", # only in BCC\n",
    "                   \"#e31a1c\", \"black\",\n",
    "                   \"#ff7f00\"\n",
    "                  )\n"
   ]
  },
  {
   "cell_type": "code",
   "execution_count": 4,
   "id": "154425c0",
   "metadata": {},
   "outputs": [
    {
     "data": {
      "text/html": [
       "<style>\n",
       ".list-inline {list-style: none; margin:0; padding: 0}\n",
       ".list-inline>li {display: inline-block}\n",
       ".list-inline>li:not(:last-child)::after {content: \"\\00b7\"; padding: 0 .5ex}\n",
       "</style>\n",
       "<ol class=list-inline><li>'Bi-RCC_MergedMeta.csv'</li><li>'Caron-ALL_MergedMeta.csv'</li><li>'Ma-LIHC_MergedMeta.csv'</li><li>'Richards-GBM-LGG_MergedMeta.csv'</li><li>'Yost-BCC_MergedMeta.csv'</li></ol>\n"
      ],
      "text/latex": [
       "\\begin{enumerate*}\n",
       "\\item 'Bi-RCC\\_MergedMeta.csv'\n",
       "\\item 'Caron-ALL\\_MergedMeta.csv'\n",
       "\\item 'Ma-LIHC\\_MergedMeta.csv'\n",
       "\\item 'Richards-GBM-LGG\\_MergedMeta.csv'\n",
       "\\item 'Yost-BCC\\_MergedMeta.csv'\n",
       "\\end{enumerate*}\n"
      ],
      "text/markdown": [
       "1. 'Bi-RCC_MergedMeta.csv'\n",
       "2. 'Caron-ALL_MergedMeta.csv'\n",
       "3. 'Ma-LIHC_MergedMeta.csv'\n",
       "4. 'Richards-GBM-LGG_MergedMeta.csv'\n",
       "5. 'Yost-BCC_MergedMeta.csv'\n",
       "\n",
       "\n"
      ],
      "text/plain": [
       "[1] \"Bi-RCC_MergedMeta.csv\"           \"Caron-ALL_MergedMeta.csv\"       \n",
       "[3] \"Ma-LIHC_MergedMeta.csv\"          \"Richards-GBM-LGG_MergedMeta.csv\"\n",
       "[5] \"Yost-BCC_MergedMeta.csv\"        "
      ]
     },
     "metadata": {},
     "output_type": "display_data"
    }
   ],
   "source": [
    "# list meta files\n",
    "files <- list.files(pattern = \"MergedMeta.csv$\")\n",
    "files"
   ]
  },
  {
   "cell_type": "code",
   "execution_count": 7,
   "id": "09a06667",
   "metadata": {},
   "outputs": [],
   "source": [
    "# load data\n",
    "j <- 3\n",
    "dat <- fread(files[j], stringsAsFactors = FALSE)\n",
    "dat <- data.frame(dat)\n",
    "rownames(dat) <- dat$V1\n",
    "dat$V1 <- NULL"
   ]
  },
  {
   "cell_type": "code",
   "execution_count": 8,
   "id": "b89be861",
   "metadata": {},
   "outputs": [
    {
     "name": "stdout",
     "output_type": "stream",
     "text": [
      "TableGrob (1 x 6) \"arrange\": 6 grobs\n",
      "                  z     cells    name           grob\n",
      "NoBatchCorrection 1 (1-1,1-1) arrange gtable[layout]\n",
      "STACAS            2 (1-1,2-2) arrange gtable[layout]\n",
      "fastmnn           3 (1-1,3-3) arrange gtable[layout]\n",
      "RPCA              4 (1-1,4-4) arrange gtable[layout]\n",
      "Conos             5 (1-1,5-5) arrange gtable[layout]\n",
      "Harmony           6 (1-1,6-6) arrange gtable[layout]\n"
     ]
    },
    {
     "data": {
      "text/html": [
       "<strong>pdf:</strong> 2"
      ],
      "text/latex": [
       "\\textbf{pdf:} 2"
      ],
      "text/markdown": [
       "**pdf:** 2"
      ],
      "text/plain": [
       "pdf \n",
       "  2 "
      ]
     },
     "metadata": {},
     "output_type": "display_data"
    },
    {
     "data": {
      "text/html": [
       "<strong>pdf:</strong> 2"
      ],
      "text/latex": [
       "\\textbf{pdf:} 2"
      ],
      "text/markdown": [
       "**pdf:** 2"
      ],
      "text/plain": [
       "pdf \n",
       "  2 "
      ]
     },
     "metadata": {},
     "output_type": "display_data"
    },
    {
     "name": "stdout",
     "output_type": "stream",
     "text": [
      "TableGrob (1 x 6) \"arrange\": 6 grobs\n",
      "                  z     cells    name           grob\n",
      "NoBatchCorrection 1 (1-1,1-1) arrange gtable[layout]\n",
      "STACAS            2 (1-1,2-2) arrange gtable[layout]\n",
      "fastmnn           3 (1-1,3-3) arrange gtable[layout]\n",
      "RPCA              4 (1-1,4-4) arrange gtable[layout]\n",
      "Conos             5 (1-1,5-5) arrange gtable[layout]\n",
      "Harmony           6 (1-1,6-6) arrange gtable[layout]\n"
     ]
    },
    {
     "data": {
      "text/html": [
       "<strong>pdf:</strong> 2"
      ],
      "text/latex": [
       "\\textbf{pdf:} 2"
      ],
      "text/markdown": [
       "**pdf:** 2"
      ],
      "text/plain": [
       "pdf \n",
       "  2 "
      ]
     },
     "metadata": {},
     "output_type": "display_data"
    },
    {
     "data": {
      "text/html": [
       "<strong>pdf:</strong> 2"
      ],
      "text/latex": [
       "\\textbf{pdf:} 2"
      ],
      "text/markdown": [
       "**pdf:** 2"
      ],
      "text/plain": [
       "pdf \n",
       "  2 "
      ]
     },
     "metadata": {},
     "output_type": "display_data"
    },
    {
     "name": "stdout",
     "output_type": "stream",
     "text": [
      "TableGrob (1 x 6) \"arrange\": 6 grobs\n",
      "                  z     cells    name           grob\n",
      "NoBatchCorrection 1 (1-1,1-1) arrange gtable[layout]\n",
      "STACAS            2 (1-1,2-2) arrange gtable[layout]\n",
      "fastmnn           3 (1-1,3-3) arrange gtable[layout]\n",
      "RPCA              4 (1-1,4-4) arrange gtable[layout]\n",
      "Conos             5 (1-1,5-5) arrange gtable[layout]\n",
      "Harmony           6 (1-1,6-6) arrange gtable[layout]\n"
     ]
    },
    {
     "data": {
      "text/html": [
       "<strong>pdf:</strong> 2"
      ],
      "text/latex": [
       "\\textbf{pdf:} 2"
      ],
      "text/markdown": [
       "**pdf:** 2"
      ],
      "text/plain": [
       "pdf \n",
       "  2 "
      ]
     },
     "metadata": {},
     "output_type": "display_data"
    },
    {
     "data": {
      "text/html": [
       "<strong>pdf:</strong> 2"
      ],
      "text/latex": [
       "\\textbf{pdf:} 2"
      ],
      "text/markdown": [
       "**pdf:** 2"
      ],
      "text/plain": [
       "pdf \n",
       "  2 "
      ]
     },
     "metadata": {},
     "output_type": "display_data"
    }
   ],
   "source": [
    "# order methods by rank\n",
    "order <- c(\"NoBatchCorrection\", \"STACAS\", \"fastmnn\", \"RPCA\", \"Conos\", \"Harmony\")\n",
    "methods <- as.character(unique(dat$Method))\n",
    "methods <- order[order %in% methods]\n",
    "\n",
    "# if STACAS in missing, add a blank plot for now\n",
    "if (! \"STACAS\" %in% methods){\n",
    "   blank <- ggplot() + theme_void() + ggtitle(\"STACAS\") + theme(plot.title = element_text(hjust = 0.5, face = \"bold\", size = 6))\n",
    "}\n",
    "\n",
    "\n",
    "########################\n",
    "# PLOT CELL TYPES\n",
    "########################\n",
    "col1 <- \"CellType\"\n",
    "plots <- list()\n",
    "for (i in 1:length(methods)){\n",
    "    \n",
    "    # subset data to specific method\n",
    "    sub <- dat[dat$Method == methods[i], ]\n",
    "    \n",
    "    # plot\n",
    "    plots[[methods[i]]] <- ggplot(sub, aes_string(x = \"Coords_1\", y = \"Coords_2\", color = col1)) + \n",
    "                       geom_point(alpha = 0.1, size = 0.001, shape = 21) +\n",
    "                       theme_void() +\n",
    "                       scale_color_manual(breaks = celltypes, values = celltypes.col) +\n",
    "                       ggtitle(methods[i]) +\n",
    "                       theme(plot.title = element_text(hjust = 0.5, face = \"bold\", size = 6),\n",
    "                             legend.position = \"bottom\",\n",
    "                             panel.border = element_rect(linetype = \"solid\", fill = NA, size = 0.1)\n",
    "                            )\n",
    "    # get legend\n",
    "    leg <- get_legend(plots[[methods[i]]] + guides(colour = guide_legend(override.aes = list(size=2, alpha = 1, pch = 19))))\n",
    "    # remove legend\n",
    "    plots[[methods[i]]] <- plots[[methods[i]]] + theme(legend.position=\"none\")\n",
    "    \n",
    "}\n",
    "\n",
    "# add blank plot to list\n",
    "if (! \"STACAS\" %in% methods){\n",
    "   plots[[\"STACAS\"]] <- blank\n",
    "}\n",
    "\n",
    "# reorder plots\n",
    "plots <- plots[match(order, names(plots))]                                                           \n",
    "\n",
    "plot.name <- paste0(\"~/Desktop/\", gsub(\"_MergedMeta.csv\", \"\", files[j]), \"_\", col1, \".tiff\")\n",
    "tiff(plot.name, units = \"in\", width = 5, height = 1, res = 600)\n",
    "print(do.call(grid.arrange, c(plots, ncol = 6)))\n",
    "dev.off()\n",
    "\n",
    "plot.name2 <- paste0(\"~/Desktop/\", gsub(\"_MergedMeta.csv\", \"\", files[j]), \"_\", col1, \"_legend.tiff\")\n",
    "tiff(plot.name2, units = \"in\", width = 10, height = 5, res = 600)\n",
    "print(as_ggplot(leg))\n",
    "dev.off()\n",
    "\n",
    "########################\n",
    "# PLOT SAMPLEID\n",
    "########################\n",
    "col1 <- \"SampleID\"\n",
    "plots <- list()\n",
    "for (i in 1:length(methods)){\n",
    "    \n",
    "    # subset data to specific method\n",
    "    sub <- dat[dat$Method == methods[i], ]\n",
    "    \n",
    "    # plot\n",
    "    plots[[methods[i]]] <- ggplot(sub, aes_string(x = \"Coords_1\", y = \"Coords_2\", color = col1)) + \n",
    "                       geom_point(alpha = 0.1, size = 0.001, shape = 21) +\n",
    "                       theme_void() +\n",
    "                       #scale_color_manual(breaks = celltypes, values = celltypes.col) +\n",
    "                       ggtitle(methods[i]) +\n",
    "                      \n",
    "                       theme(plot.title = element_text(hjust = 0.5, face = \"bold\", size = 6),\n",
    "                             legend.position = \"bottom\",\n",
    "                             panel.border = element_rect(linetype = \"solid\", fill = NA, size = 0.1)\n",
    "                            )\n",
    "    # get legend\n",
    "    leg <- get_legend(plots[[methods[i]]] + guides(colour = guide_legend(override.aes = list(size=2, alpha = 1, pch = 19))))\n",
    "    # remove legend\n",
    "    plots[[methods[i]]] <- plots[[methods[i]]] + theme(legend.position=\"none\")\n",
    "    \n",
    "}\n",
    "\n",
    "# add blank plot to list\n",
    "if (! \"STACAS\" %in% methods){\n",
    "   plots[[\"STACAS\"]] <- blank\n",
    "}\n",
    "\n",
    "# reorder plots\n",
    "plots <- plots[match(order, names(plots))]                                                           \n",
    "\n",
    "plot.name <- paste0(\"~/Desktop/\", gsub(\"_MergedMeta.csv\", \"\", files[j]), \"_\", col1, \".tiff\")\n",
    "tiff(plot.name, units = \"in\", width = 5, height = 1, res = 600)\n",
    "print(do.call(grid.arrange, c(plots, ncol = 6)))\n",
    "dev.off()\n",
    "\n",
    "plot.name2 <- paste0(\"~/Desktop/\", gsub(\"_MergedMeta.csv\", \"\", files[j]), \"_\", col1, \"_legend.tiff\")\n",
    "tiff(plot.name2, units = \"in\", width = 10, height = 5, res = 600)\n",
    "print(as_ggplot(leg))\n",
    "dev.off()\n",
    "\n",
    "\n",
    "########################\n",
    "# PLOT PATIENTID\n",
    "########################\n",
    "col1 <- \"PatientID\"\n",
    "plots <- list()\n",
    "for (i in 1:length(methods)){\n",
    "    \n",
    "    # subset data to specific method\n",
    "    sub <- dat[dat$Method == methods[i], ]\n",
    "    \n",
    "    # plot\n",
    "    plots[[methods[i]]] <- ggplot(sub, aes_string(x = \"Coords_1\", y = \"Coords_2\", color = col1)) + \n",
    "                       geom_point(alpha = 0.1, size = 0.001, shape = 21) +\n",
    "                       theme_void() +\n",
    "                       #scale_color_manual(breaks = celltypes, values = celltypes.col) +\n",
    "                       ggtitle(methods[i]) +\n",
    "                      \n",
    "                       theme(plot.title = element_text(hjust = 0.5, face = \"bold\", size = 6),\n",
    "                             legend.position = \"bottom\",\n",
    "                             panel.border = element_rect(linetype = \"solid\", fill = NA, size = 0.1)\n",
    "                            )\n",
    "    # get legend\n",
    "    leg <- get_legend(plots[[methods[i]]] + guides(colour = guide_legend(override.aes = list(size=2, alpha = 1, pch = 19))))\n",
    "    # remove legend\n",
    "    plots[[methods[i]]] <- plots[[methods[i]]] + theme(legend.position=\"none\")\n",
    "    \n",
    "}\n",
    "\n",
    "# add blank plot to list\n",
    "if (! \"STACAS\" %in% methods){\n",
    "   plots[[\"STACAS\"]] <- blank\n",
    "}\n",
    "\n",
    "# reorder plots\n",
    "plots <- plots[match(order, names(plots))]                                                           \n",
    "\n",
    "plot.name <- paste0(\"~/Desktop/\", gsub(\"_MergedMeta.csv\", \"\", files[j]), \"_\", col1, \".tiff\")\n",
    "tiff(plot.name, units = \"in\", width = 5, height = 1, res = 600)\n",
    "print(do.call(grid.arrange, c(plots, ncol = 6)))\n",
    "dev.off()\n",
    "\n",
    "plot.name2 <- paste0(\"~/Desktop/\", gsub(\"_MergedMeta.csv\", \"\", files[j]), \"_\", col1, \"_legend.tiff\")\n",
    "tiff(plot.name2, units = \"in\", width = 10, height = 5, res = 600)\n",
    "print(as_ggplot(leg))\n",
    "dev.off()"
   ]
  }
 ],
 "metadata": {
  "kernelspec": {
   "display_name": "R",
   "language": "R",
   "name": "ir"
  },
  "language_info": {
   "codemirror_mode": "r",
   "file_extension": ".r",
   "mimetype": "text/x-r-source",
   "name": "R",
   "pygments_lexer": "r",
   "version": "3.6.3"
  }
 },
 "nbformat": 4,
 "nbformat_minor": 5
}
