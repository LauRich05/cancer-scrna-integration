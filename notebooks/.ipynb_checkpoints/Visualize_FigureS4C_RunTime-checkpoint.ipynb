{
 "cells": [
  {
   "cell_type": "markdown",
   "id": "146334ee",
   "metadata": {},
   "source": [
    "---\n",
    "# Plot run time per dataset and data integration method\n",
    "L.Richards\n",
    "2021-06-22\n",
    "*/cluster/projects/pughlab/projects/cancer_scrna_integration/figures*\n",
    "\n",
    "---"
   ]
  },
  {
   "cell_type": "code",
   "execution_count": 2,
   "id": "55f5bdcd",
   "metadata": {},
   "outputs": [],
   "source": [
    "library(ggplot2)\n",
    "library(ggpubr)\n",
    "library(data.table)\n",
    "library(ComplexHeatmap)\n",
    "library(tidyr)\n",
    "library(viridis)\n",
    "\n",
    "setwd(\"~/Desktop/H4H/pughlab/projects/cancer_scrna_integration/figures\")"
   ]
  },
  {
   "cell_type": "markdown",
   "id": "164dd911",
   "metadata": {},
   "source": [
    "---\n",
    "## 1.0 Load runtime data\n",
    "---"
   ]
  },
  {
   "cell_type": "code",
   "execution_count": 6,
   "id": "a96f7283",
   "metadata": {},
   "outputs": [
    {
     "data": {
      "text/html": [
       "<table>\n",
       "<caption>A data.frame: 6 × 6</caption>\n",
       "<thead>\n",
       "\t<tr><th></th><th scope=col>Dataset</th><th scope=col>Tool</th><th scope=col>Samples</th><th scope=col>dist.pct</th><th scope=col>k.weight</th><th scope=col>RunTime_min</th></tr>\n",
       "\t<tr><th></th><th scope=col>&lt;fct&gt;</th><th scope=col>&lt;fct&gt;</th><th scope=col>&lt;fct&gt;</th><th scope=col>&lt;fct&gt;</th><th scope=col>&lt;fct&gt;</th><th scope=col>&lt;dbl&gt;</th></tr>\n",
       "</thead>\n",
       "<tbody>\n",
       "\t<tr><th scope=row>1</th><td>Ma-LIHC</td><td>Uncorrected</td><td>All</td><td>-   </td><td>- </td><td> 0.904</td></tr>\n",
       "\t<tr><th scope=row>2</th><td>Ma-LIHC</td><td>Conos      </td><td>All</td><td>-   </td><td>- </td><td> 3.450</td></tr>\n",
       "\t<tr><th scope=row>3</th><td>Ma-LIHC</td><td>STACAS     </td><td>All</td><td>0.80</td><td>20</td><td>14.315</td></tr>\n",
       "\t<tr><th scope=row>4</th><td>Ma-LIHC</td><td>RPCA       </td><td>All</td><td>-   </td><td>50</td><td> 7.499</td></tr>\n",
       "\t<tr><th scope=row>5</th><td>Ma-LIHC</td><td>fastMNN    </td><td>All</td><td>-   </td><td>- </td><td> 2.324</td></tr>\n",
       "\t<tr><th scope=row>6</th><td>Ma-LIHC</td><td>Harmony    </td><td>All</td><td>-   </td><td>- </td><td> 1.716</td></tr>\n",
       "</tbody>\n",
       "</table>\n"
      ],
      "text/latex": [
       "A data.frame: 6 × 6\n",
       "\\begin{tabular}{r|llllll}\n",
       "  & Dataset & Tool & Samples & dist.pct & k.weight & RunTime\\_min\\\\\n",
       "  & <fct> & <fct> & <fct> & <fct> & <fct> & <dbl>\\\\\n",
       "\\hline\n",
       "\t1 & Ma-LIHC & Uncorrected & All & -    & -  &  0.904\\\\\n",
       "\t2 & Ma-LIHC & Conos       & All & -    & -  &  3.450\\\\\n",
       "\t3 & Ma-LIHC & STACAS      & All & 0.80 & 20 & 14.315\\\\\n",
       "\t4 & Ma-LIHC & RPCA        & All & -    & 50 &  7.499\\\\\n",
       "\t5 & Ma-LIHC & fastMNN     & All & -    & -  &  2.324\\\\\n",
       "\t6 & Ma-LIHC & Harmony     & All & -    & -  &  1.716\\\\\n",
       "\\end{tabular}\n"
      ],
      "text/markdown": [
       "\n",
       "A data.frame: 6 × 6\n",
       "\n",
       "| <!--/--> | Dataset &lt;fct&gt; | Tool &lt;fct&gt; | Samples &lt;fct&gt; | dist.pct &lt;fct&gt; | k.weight &lt;fct&gt; | RunTime_min &lt;dbl&gt; |\n",
       "|---|---|---|---|---|---|---|\n",
       "| 1 | Ma-LIHC | Uncorrected | All | -    | -  |  0.904 |\n",
       "| 2 | Ma-LIHC | Conos       | All | -    | -  |  3.450 |\n",
       "| 3 | Ma-LIHC | STACAS      | All | 0.80 | 20 | 14.315 |\n",
       "| 4 | Ma-LIHC | RPCA        | All | -    | 50 |  7.499 |\n",
       "| 5 | Ma-LIHC | fastMNN     | All | -    | -  |  2.324 |\n",
       "| 6 | Ma-LIHC | Harmony     | All | -    | -  |  1.716 |\n",
       "\n"
      ],
      "text/plain": [
       "  Dataset Tool        Samples dist.pct k.weight RunTime_min\n",
       "1 Ma-LIHC Uncorrected All     -        -         0.904     \n",
       "2 Ma-LIHC Conos       All     -        -         3.450     \n",
       "3 Ma-LIHC STACAS      All     0.80     20       14.315     \n",
       "4 Ma-LIHC RPCA        All     -        50        7.499     \n",
       "5 Ma-LIHC fastMNN     All     -        -         2.324     \n",
       "6 Ma-LIHC Harmony     All     -        -         1.716     "
      ]
     },
     "metadata": {},
     "output_type": "display_data"
    }
   ],
   "source": [
    "dat <- read.csv(\"~/Desktop/H4H/pughlab/projects/cancer_scrna_integration/evalutation/runtime/DataIntegration_Timers.csv\")\n",
    "head(dat)"
   ]
  },
  {
   "cell_type": "code",
   "execution_count": 40,
   "id": "2978a934",
   "metadata": {},
   "outputs": [
    {
     "name": "stderr",
     "output_type": "stream",
     "text": [
      "Warning message:\n",
      "“Removed 1 rows containing missing values (geom_point).”\n"
     ]
    },
    {
     "data": {
      "text/html": [
       "<strong>pdf:</strong> 2"
      ],
      "text/latex": [
       "\\textbf{pdf:} 2"
      ],
      "text/markdown": [
       "**pdf:** 2"
      ],
      "text/plain": [
       "pdf \n",
       "  2 "
      ]
     },
     "metadata": {},
     "output_type": "display_data"
    }
   ],
   "source": [
    "pdf(\"Figure2_RunTime.pdf\", width = 13, height = 4)\n",
    "p <- ggplot(dat, aes(x = RunTime_min, y = Dataset, fill = Tool)) +\n",
    "     geom_point(size = 5, alpha = 0.7, pch = 21, color = \"black\") + \n",
    "     theme_classic() + ylab(\"\") + xlab(\"\") +\n",
    "     scale_fill_brewer(palette = \"Dark2\") + \n",
    "     theme(panel.grid.major.y = element_line(color = \"grey80\", linetype = \"dashed\"))\n",
    "\n",
    "p\n",
    "\n",
    "dev.off()"
   ]
  },
  {
   "cell_type": "code",
   "execution_count": null,
   "id": "f4a5850a",
   "metadata": {},
   "outputs": [],
   "source": []
  }
 ],
 "metadata": {
  "kernelspec": {
   "display_name": "R",
   "language": "R",
   "name": "ir"
  },
  "language_info": {
   "codemirror_mode": "r",
   "file_extension": ".r",
   "mimetype": "text/x-r-source",
   "name": "R",
   "pygments_lexer": "r",
   "version": "3.6.3"
  }
 },
 "nbformat": 4,
 "nbformat_minor": 5
}
