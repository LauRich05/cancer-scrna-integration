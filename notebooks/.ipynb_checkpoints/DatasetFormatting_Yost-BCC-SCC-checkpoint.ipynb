{
 "cells": [
  {
   "cell_type": "markdown",
   "metadata": {},
   "source": [
    "---\n",
    "# Dataset Formatting: Yost-BCC-SCC\n",
    "*L.Richards*  \n",
    "*2020-06-07*  \n",
    "*/cluster/projects/pughlab/projects/cancer_scrna_integration/data/Yost-BCC-SCC/*  \n",
    "\n",
    "---\n",
    "\n",
    "Format Yost-BCC-SCC dataset. This will be input for data integration tools."
   ]
  },
  {
   "cell_type": "code",
   "execution_count": null,
   "metadata": {
    "collapsed": true
   },
   "outputs": [],
   "source": [
    "library(Seurat) #v4.0.1\n",
    "library(earlycross) # v0.1\n",
    "library(data.table)"
   ]
  },
  {
   "cell_type": "markdown",
   "metadata": {},
   "source": [
    "---\n",
    "## 1.0 Format downloaded public data\n",
    "---\n",
    "\n",
    "Downloaded data from https://www.ncbi.nlm.nih.gov/geo/query/acc.cgi?acc=GSE123813"
   ]
  },
  {
   "cell_type": "code",
   "execution_count": null,
   "metadata": {
    "collapsed": true
   },
   "outputs": [],
   "source": [
    "### BCC\n",
    "\n",
    "# read and format files from GEO accession\n",
    "meta <- read.table(\"./original-data/GSE123813_bcc_all_metadata.txt.gz\",\n",
    "                   sep = \"\\t\",\n",
    "                   header = T\n",
    "                  )\n",
    "rownames(meta) <- meta$cell.id\n",
    "meta$CancerType <- \"BCC\"\n",
    "colnames(meta) <- gsub(\"UMAP\", \"BCC_UMAP\", colnames(meta))\n",
    "\n",
    "counts <- read.table(\"./original-data/GSE123813_bcc_scRNA_counts.txt.gz\",\n",
    "                   sep = \"\\t\",\n",
    "                   header = T\n",
    "                  )\n",
    "\n",
    "# combine into a seurat object\n",
    "bcc <- CreateSeuratObject(counts = counts, \n",
    "                          meta.data = meta\n",
    "                         )\n",
    "\n"
   ]
  },
  {
   "cell_type": "code",
   "execution_count": null,
   "metadata": {
    "collapsed": true
   },
   "outputs": [],
   "source": [
    "### SCC\n",
    "meta <- read.table(\"./original-data/GSE123813_scc_metadata.txt.gz\",\n",
    "                   sep = \"\\t\",\n",
    "                   header = T\n",
    "                  )\n",
    "rownames(meta) <- meta$cell.id\n",
    "meta$CancerType <- \"SCC\"\n",
    "colnames(meta) <- gsub(\"UMAP\", \"SCC_UMAP\", colnames(meta))\n",
    "\n",
    "counts <- read.table(\"./original-data/GSE123813_scc_scRNA_counts.txt.gz\",\n",
    "                   sep = \"\\t\",\n",
    "                   header = T\n",
    "                  )\n",
    "\n",
    "# combine into a seurat object\n",
    "scc <- CreateSeuratObject(counts = counts, \n",
    "                          meta.data = meta\n",
    "                         )"
   ]
  },
  {
   "cell_type": "code",
   "execution_count": null,
   "metadata": {
    "collapsed": true
   },
   "outputs": [],
   "source": [
    "### COMBINE SCC & BCC\n",
    "combo <- merge(bcc, y = scc)\n",
    "\n",
    "# save seurat object\n",
    "saveRDS(combo, file = \"Yost-BCC-SCC_seurat.rds\")"
   ]
  },
  {
   "cell_type": "markdown",
   "metadata": {},
   "source": [
    "---\n",
    "## 2.0 Output files in 10x common format\n",
    "---\n",
    "\n",
    "Output counts matrix with 10x/CellRanger formatting style and metadata csv."
   ]
  },
  {
   "cell_type": "code",
   "execution_count": null,
   "metadata": {
    "collapsed": true
   },
   "outputs": [],
   "source": [
    "# save metadata as csv file\n",
    "meta <- data.frame(combo@meta.data)\n",
    "write.csv(meta, file = \"Yost-BCC-SCC_meta.csv\")"
   ]
  },
  {
   "cell_type": "code",
   "execution_count": null,
   "metadata": {
    "collapsed": true
   },
   "outputs": [],
   "source": [
    "# export count matrix as default 10x CellRanger output\n",
    "Write10X(combo, dir = \"./\")"
   ]
  },
  {
   "cell_type": "markdown",
   "metadata": {},
   "source": [
    "---"
   ]
  }
 ],
 "metadata": {
  "kernelspec": {
   "display_name": "R",
   "language": "R",
   "name": "ir"
  },
  "language_info": {
   "codemirror_mode": "r",
   "file_extension": ".r",
   "mimetype": "text/x-r-source",
   "name": "R",
   "pygments_lexer": "r",
   "version": "3.6.3"
  }
 },
 "nbformat": 4,
 "nbformat_minor": 2
}
