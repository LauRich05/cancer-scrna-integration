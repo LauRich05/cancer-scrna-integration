{
 "cells": [
  {
   "cell_type": "markdown",
   "metadata": {},
   "source": [
    "---\n",
    "# Dataset Formatting: Griffiths-BRCA\n",
    "*L.Richards*  \n",
    "*2020-06-16*  \n",
    "*/cluster/projects/pughlab/projects/cancer_scrna_integration/data/Griffiths-BRCA*  \n",
    "\n",
    "---\n",
    "\n",
    "Format Griffiths-BRCA. This will be input for data integration tools.\n",
    "\n",
    "> Paper: https://www.nature.com/articles/s43018-021-00215-7    \n",
    "> Data Download: https://www.ncbi.nlm.nih.gov/geo/query/acc.cgi?acc=GSE158724 \n",
    "> **Obtained cell level metadata directly from A.Bild*"
   ]
  },
  {
   "cell_type": "code",
   "execution_count": null,
   "metadata": {
    "collapsed": true
   },
   "outputs": [],
   "source": [
    "library(Seurat) #v4.0.1\n",
    "library(earlycross) # v0.1\n",
    "library(data.table)"
   ]
  },
  {
   "cell_type": "markdown",
   "metadata": {},
   "source": [
    "---\n",
    "## 1.0 Format downloaded public data\n",
    "---\n"
   ]
  },
  {
   "cell_type": "code",
   "execution_count": null,
   "metadata": {},
   "outputs": [],
   "source": [
    "# read in 10x counts matrix\n",
    "# this matrix only has cancer cells -_-\n",
    "counts.file <- \"/cluster/projects/pughlab/projects/cancer_scrna_integration/data/Griffiths-BRCA/original-data/GSE158724_10x.counts.txt\"\n",
    "counts <- fread(counts.file)\n",
    "counts <- data.frame(counts)\n",
    "rownames(counts) <- counts$Gene.ID\n",
    "counts$Gene.ID <- NULL\n",
    "dim(counts) # 21,279 genes x 110,569 cells\n",
    "\n",
    "# read in metadata files, combine into one big matrix across cell types\n",
    "# all files have the same header\n",
    "meta.path <- \"/cluster/projects/pughlab/projects/cancer_scrna_integration/data/Griffiths-BRCA/original-data\"\n",
    "meta.files <- list.files(meta.path, pattern = \"metadata.txt\")\n",
    "meta <- list()\n",
    "\n",
    "for (i in 1:length(meta.files)){\n",
    "    \n",
    "    a <- fread(paste0(meta.path, \"/\", meta.files[i]))\n",
    "    a <- data.frame(a)\n",
    "    rownames(a) <- a$Cell.ID\n",
    "    meta[[i]] <- a\n",
    "    \n",
    "}\n",
    "\n",
    "meta <- do.call(rbind, meta) # 176,281 cells \n",
    "\n",
    "# check that cells in counts are also in meta\n",
    "colnames(counts) <- gsub(\"^P\", \"FEL0\", colnames(counts))\n",
    "table(colnames(counts) %in% rownames(meta)) # good to go!\n",
    "meta <- meta[colnames(counts), ] # subset meta to match counts\n",
    "\n",
    "# edit metadata columns (SampleID, PatientID, CellType)\n",
    "colnames(meta) <- gsub(\"Sample\", \"SampleID\", colnames(meta))\n",
    "colnames(meta) <- gsub(\"Patient\", \"PatientID\", colnames(meta))\n",
    "\n",
    "# clean up cell names to match other studies\n",
    "meta$CellType <- dat@meta.data$Type\n"
   ]
  },
  {
   "cell_type": "code",
   "execution_count": null,
   "metadata": {},
   "outputs": [],
   "source": [
    "# create a seurat object\n",
    "# \n",
    "dat <- CreateSeuratObject(counts = counts, \n",
    "                          meta.data = meta\n",
    "                         )"
   ]
  },
  {
   "cell_type": "code",
   "execution_count": null,
   "metadata": {
    "collapsed": true
   },
   "outputs": [],
   "source": [
    "\n",
    "\n",
    "\n",
    "\n",
    "\n",
    "# save seurat object\n",
    "saveRDS(combo, file = \"Griffiths-BRCA_seurat.rds\")"
   ]
  },
  {
   "cell_type": "code",
   "execution_count": null,
   "metadata": {},
   "outputs": [],
   "source": []
  },
  {
   "cell_type": "markdown",
   "metadata": {},
   "source": [
    "---\n",
    "## 2.0 Output files in 10x common format\n",
    "---\n",
    "\n",
    "Output counts matrix with 10x/CellRanger formatting style and metadata csv."
   ]
  },
  {
   "cell_type": "code",
   "execution_count": null,
   "metadata": {
    "collapsed": true
   },
   "outputs": [],
   "source": [
    "# save metadata as csv file\n",
    "meta <- data.frame(combo@meta.data)\n",
    "write.csv(meta, file = \"Griffiths-BRCA_meta.csv\")"
   ]
  },
  {
   "cell_type": "code",
   "execution_count": null,
   "metadata": {
    "collapsed": true
   },
   "outputs": [],
   "source": [
    "# export count matrix as default 10x CellRanger output\n",
    "Write10X(combo, dir = \"./\")"
   ]
  },
  {
   "cell_type": "markdown",
   "metadata": {},
   "source": [
    "---"
   ]
  }
 ],
 "metadata": {
  "kernelspec": {
   "display_name": "R",
   "language": "R",
   "name": "ir"
  },
  "language_info": {
   "codemirror_mode": "r",
   "file_extension": ".r",
   "mimetype": "text/x-r-source",
   "name": "R",
   "pygments_lexer": "r",
   "version": "3.6.3"
  }
 },
 "nbformat": 4,
 "nbformat_minor": 2
}
