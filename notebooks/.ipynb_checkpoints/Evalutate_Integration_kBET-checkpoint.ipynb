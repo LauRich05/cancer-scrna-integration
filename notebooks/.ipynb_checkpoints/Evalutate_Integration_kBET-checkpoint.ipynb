{
 "cells": [
  {
   "cell_type": "markdown",
   "id": "08fd4335",
   "metadata": {},
   "source": [
    "---\n",
    "# Evaluate data integration using kBET\n",
    "*L.Richards*  \n",
    "*2021-06-14*  \n",
    "*/cluster/projects/pughlab/projects/cancer_scrna_integration/figures*\n",
    "\n",
    "---\n",
    "\n",
    "()[https://genomebiology.biomedcentral.com/articles/10.1186/s13059-019-1850-9]\n",
    "> \"The kBET metric measures batch mixing on the local level using a predetermined number of nearest neighbors, which are selected around each data point by distance, to compute the local batch label distribution. A small proportion of local distributions deviating from the global batch label ratio (i.e., rejection rate) denotes good batch mixing. Here, we computed the kBET rejection rates for local sample sizes at 5%, 10%, 15%, 20%, and 25% to ensure that the assessment was not subject to the choice of sample size.\""
   ]
  },
  {
   "cell_type": "code",
   "execution_count": null,
   "id": "1480e81a",
   "metadata": {},
   "outputs": [],
   "source": []
  },
  {
   "cell_type": "code",
   "execution_count": null,
   "id": "823e18cf",
   "metadata": {},
   "outputs": [],
   "source": []
  },
  {
   "cell_type": "code",
   "execution_count": null,
   "id": "6b772cdd",
   "metadata": {},
   "outputs": [],
   "source": []
  },
  {
   "cell_type": "code",
   "execution_count": null,
   "id": "7b193886",
   "metadata": {},
   "outputs": [],
   "source": []
  }
 ],
 "metadata": {
  "kernelspec": {
   "display_name": "R",
   "language": "R",
   "name": "ir"
  },
  "language_info": {
   "codemirror_mode": "r",
   "file_extension": ".r",
   "mimetype": "text/x-r-source",
   "name": "R",
   "pygments_lexer": "r",
   "version": "3.6.3"
  }
 },
 "nbformat": 4,
 "nbformat_minor": 5
}
