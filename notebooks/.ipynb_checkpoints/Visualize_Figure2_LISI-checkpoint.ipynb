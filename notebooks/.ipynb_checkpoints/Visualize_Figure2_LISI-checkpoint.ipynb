{
 "cells": [
  {
   "cell_type": "markdown",
   "metadata": {},
   "source": [
    "---\n",
    "# Visualize LISI metric and runtime\n",
    "*L.Richards*  \n",
    "*2021-06-09*    \n",
    "*/cluster/projects/pughlab/projects/cancer_scrna_integration/figures*    \n",
    "\n",
    "---\n",
    "\n",
    "https://davemcg.github.io/post/lets-plot-scrna-dotplots/"
   ]
  },
  {
   "cell_type": "code",
   "execution_count": 53,
   "metadata": {},
   "outputs": [],
   "source": [
    "library(ggplot2)\n",
    "library(ggpubr)\n",
    "library(data.table)\n",
    "library(ComplexHeatmap)\n",
    "library(tidyr)\n",
    "library(viridis)\n",
    "\n",
    "setwd(\"~/Desktop/H4H/pughlab/projects/cancer_scrna_integration/figures\")"
   ]
  },
  {
   "cell_type": "markdown",
   "metadata": {
    "collapsed": true
   },
   "source": [
    "---\n",
    "## 1.0 Calculate median LISI scores\n",
    "---\n",
    "\n",
    "Make a big matrix of metadata across all samples, this will require formatting header columns the be the same. "
   ]
  },
  {
   "cell_type": "code",
   "execution_count": 41,
   "metadata": {},
   "outputs": [],
   "source": [
    "# load lisi scores (0 - 1)\n",
    "#lisi <- fread(\"~/Desktop/H4H/pughlab/projects/cancer_scrna_integration/evalutation/lisi/LISI_calculations.csv\")\n",
    "lisi <- fread(\"~/Desktop/lisi_integration.csv\")\n",
    "lisi <- data.frame(lisi)\n",
    "lisi$V1 <- NULL\n",
    "rownames(lisi) <- lisi$V1.1\n",
    "lisi$V1.1 <- NULL"
   ]
  },
  {
   "cell_type": "markdown",
   "metadata": {},
   "source": [
    "---\n",
    "### 1.1 Batch LISI for Samples and PatientIDs\n",
    "---\n"
   ]
  },
  {
   "cell_type": "code",
   "execution_count": 58,
   "metadata": {},
   "outputs": [],
   "source": [
    "# make a rowID where you combine Study and Method together\n",
    "lisi$Study_Method <- paste0(lisi$Study, \"_\", lisi$Method)"
   ]
  },
  {
   "cell_type": "code",
   "execution_count": 59,
   "metadata": {},
   "outputs": [],
   "source": [
    "# calculate median LISI for each study\n",
    "\n",
    "# SAMPLEID\n",
    "sample <- aggregate(LISI_SampleID_Norm ~ Study_Method, lisi, median)\n",
    "sample$Category <- \"SampleID\"\n",
    "colnames(sample)[2] <- \"Median_LISI\"\n",
    "\n",
    "# Patient ID\n",
    "patient <- aggregate(LISI_PatientID_Norm ~ Study_Method, lisi, median)\n",
    "patient$Category <- \"PatientID\"\n",
    "colnames(patient)[2] <- \"Median_LISI\""
   ]
  },
  {
   "cell_type": "code",
   "execution_count": 60,
   "metadata": {},
   "outputs": [],
   "source": [
    "# combine sample and patient batch lisi together & mutate\n",
    "lisi_batch <- rbind(sample, patient)"
   ]
  },
  {
   "cell_type": "markdown",
   "metadata": {},
   "source": [
    "---\n",
    "### 1.2 Cell Type LISI for SampleID\n",
    "---"
   ]
  },
  {
   "cell_type": "code",
   "execution_count": 137,
   "metadata": {},
   "outputs": [],
   "source": [
    "# CELL TYPE\n",
    "\n",
    "lisi$Study_Method_CellType <- paste0(lisi$Study_Method, \"_\", lisi$CellType)\n",
    "celltype <- aggregate(LISI_CellType_SampleID_Norm ~ Study_Method_CellType, lisi, median)\n",
    "celltype$Category <- \"SampleID\"\n"
   ]
  },
  {
   "cell_type": "code",
   "execution_count": 138,
   "metadata": {},
   "outputs": [],
   "source": [
    "# extract cell types\n",
    "cat <- sapply(strsplit(celltype$Study_Method_CellType,\"_\"), `[`, -c(1:2))\n",
    "cat <- lapply(cat, function(x){paste(x, collapse = \"_\")})\n",
    "\n",
    "# reformat studyID \n",
    "study <- sapply(strsplit(celltype$Study_Method_CellType,\"_\"), `[`, c(1:2))\n",
    "study <- t(study)\n",
    "study <- paste(study[,1], study[ ,2], sep = \"_\")\n",
    "\n",
    "# add celltypes to dataframe\n",
    "celltype$Category <- unlist(cat)\n",
    "celltype$Study_Method_CellType <- study\n",
    "\n",
    "# rename columns\n",
    "colnames(celltype) <- c(\"Study_Method\", \"Median_LISI\", \"Category\")"
   ]
  },
  {
   "cell_type": "markdown",
   "metadata": {},
   "source": [
    "---\n",
    "## 2.0 Visualize LISI scores with dotplot\n",
    "---"
   ]
  },
  {
   "cell_type": "code",
   "execution_count": 160,
   "metadata": {},
   "outputs": [],
   "source": [
    "res <- rbind(lisi_batch, celltype) \n",
    "res$Category <- factor(res$Category,\n",
    "                       levels = c(unique(celltype$Category), \"PatientID\", \"SampleID\")\n",
    "                      )\n",
    "\n",
    "# remove lisi batch patient, since not all cohorts have multiple samples\n",
    "# from the same patient anyways\n",
    "res <- res[!res$Category == \"PatientID\", ]\n"
   ]
  },
  {
   "cell_type": "code",
   "execution_count": 173,
   "metadata": {},
   "outputs": [
    {
     "data": {
      "text/html": [
       "<strong>pdf:</strong> 2"
      ],
      "text/latex": [
       "\\textbf{pdf:} 2"
      ],
      "text/markdown": [
       "**pdf:** 2"
      ],
      "text/plain": [
       "pdf \n",
       "  2 "
      ]
     },
     "metadata": {},
     "output_type": "display_data"
    }
   ],
   "source": [
    "# plot dotplot\n",
    "\n",
    "pdf(\"LISI_Dotplot.pdf\", width = 15, height = 9)\n",
    "ggplot(res, aes(x = Study_Method, y = Category, fill = Median_LISI, size = Median_LISI)) + \n",
    "    geom_point(pch = 21) +\n",
    "    scale_fill_viridis_c(option = \"plasma\", name = 'Median LISI') +\n",
    "    cowplot::theme_cowplot() +\n",
    "    ylab('') + xlab('') + \n",
    "    theme(axis.text.x = element_text(angle = 90, hjust = 0.95, size = 12)) +\n",
    "    theme(axis.text.y = element_text(size = 15))\n",
    "dev.off()"
   ]
  }
 ],
 "metadata": {
  "kernelspec": {
   "display_name": "R",
   "language": "R",
   "name": "ir"
  },
  "language_info": {
   "codemirror_mode": "r",
   "file_extension": ".r",
   "mimetype": "text/x-r-source",
   "name": "R",
   "pygments_lexer": "r",
   "version": "3.6.3"
  }
 },
 "nbformat": 4,
 "nbformat_minor": 2
}
