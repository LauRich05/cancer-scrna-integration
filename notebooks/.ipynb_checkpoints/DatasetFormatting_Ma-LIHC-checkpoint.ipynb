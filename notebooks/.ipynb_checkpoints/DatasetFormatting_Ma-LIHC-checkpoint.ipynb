{
 "cells": [
  {
   "cell_type": "markdown",
   "metadata": {},
   "source": [
    "---\n",
    "# Dataset Formatting: Ma-LIHC\n",
    "*L.Richards*  \n",
    "*2020-06-07*  \n",
    "*/cluster/projects/pughlab/projects/cancer_scrna_integration/data/Ma-LIHC/*  \n",
    "\n",
    "---\n",
    "\n",
    "Format Ma-LIHC dataset. This will be input for data integration tools."
   ]
  },
  {
   "cell_type": "code",
   "execution_count": null,
   "metadata": {
    "collapsed": true
   },
   "outputs": [],
   "source": [
    "library(Seurat) #v4.0.1\n",
    "library(earlycross) # v0.1"
   ]
  },
  {
   "cell_type": "markdown",
   "metadata": {},
   "source": [
    "---\n",
    "## 1.0 Format downloaded public data\n",
    "---\n",
    "\n",
    "Downloaded data from https://www.ncbi.nlm.nih.gov/geo/query/acc.cgi?acc=GSE125449\n",
    "\n",
    ">\"\tA total of 19 tumors were profiled. Set 1 contains scRNA-seq data of twelve samples, i.e., S16_P10_LCP18, S02_P01_LCP21, S10_P05_LCP23, S09_P04_LCP25, S08_P03_LCP26, S07_P02_LCP28, S11_P06_LCP29, S12_P07_LCP30, S20_P12_LCP35, S21_P13_LCP37, S15_P09_LCP38, and S19_P11_LCP39. Set 2 includes scRNA-seq data of seven samples, i.e., S351_P10_LCP34, S355_P13_LCP42, S358_P16_LCP46, S305_P06_LCP56, S300_P02_LCP60, 364_P21_LCP65, and S365_P22_LCP66. \""
   ]
  },
  {
   "cell_type": "code",
   "execution_count": null,
   "metadata": {
    "collapsed": true
   },
   "outputs": [],
   "source": [
    "### Set 1\n",
    "\n",
    "# read and format files from GEO accession\n",
    "meta <- read.table(\"./original-data/Set1/GSE125449_Set1_samples.txt.gz\",\n",
    "                   sep = \"\\t\",\n",
    "                   header = T\n",
    "                  )\n",
    "rownames(meta) <- meta$Cell.Barcode\n",
    "\n",
    "counts <- Read10X(\"./original-data/Set1/\")\n",
    "\n",
    "# combine into a seurat object\n",
    "set1 <- CreateSeuratObject(counts = counts, \n",
    "                          meta.data = meta\n",
    "                         )\n"
   ]
  },
  {
   "cell_type": "code",
   "execution_count": null,
   "metadata": {
    "collapsed": true
   },
   "outputs": [],
   "source": [
    "### Set 1\n",
    "\n",
    "# read and format files from GEO accession\n",
    "meta <- read.table(\"./original-data/Set2/GSE125449_Set2_samples.txt.gz\",\n",
    "                   sep = \"\\t\",\n",
    "                   header = T\n",
    "                  )\n",
    "rownames(meta) <- meta$Cell.Barcode\n",
    "\n",
    "counts <- Read10X(\"./original-data/Set2/\")\n",
    "\n",
    "# combine into a seurat object\n",
    "set2 <- CreateSeuratObject(counts = counts, \n",
    "                          meta.data = meta\n",
    "                         )\n"
   ]
  },
  {
   "cell_type": "code",
   "execution_count": null,
   "metadata": {
    "collapsed": true
   },
   "outputs": [],
   "source": [
    "### COMBINE Set1 & Set2\n",
    "combo <- merge(set1, y = set2)\n",
    "\n",
    "# save seurat object\n",
    "saveRDS(combo, file = \"Ma-LIHC_seurat.rds\")"
   ]
  },
  {
   "cell_type": "markdown",
   "metadata": {},
   "source": [
    "---\n",
    "## 2.0 Output files in 10x common format\n",
    "---\n",
    "\n",
    "Output counts matrix with 10x/CellRanger formatting style and metadata csv."
   ]
  },
  {
   "cell_type": "code",
   "execution_count": null,
   "metadata": {
    "collapsed": true
   },
   "outputs": [],
   "source": [
    "# save metadata as csv file\n",
    "meta <- data.frame(combo@meta.data)\n",
    "write.csv(meta, file = \"Ma-LIHC_meta.csv\")"
   ]
  },
  {
   "cell_type": "code",
   "execution_count": null,
   "metadata": {
    "collapsed": true
   },
   "outputs": [],
   "source": [
    "# export count matrix as default 10x CellRanger output\n",
    "Write10X(combo, dir = \"./\")"
   ]
  },
  {
   "cell_type": "markdown",
   "metadata": {},
   "source": [
    "---"
   ]
  }
 ],
 "metadata": {
  "kernelspec": {
   "display_name": "R",
   "language": "R",
   "name": "ir"
  },
  "language_info": {
   "codemirror_mode": "r",
   "file_extension": ".r",
   "mimetype": "text/x-r-source",
   "name": "R",
   "pygments_lexer": "r",
   "version": "3.6.3"
  }
 },
 "nbformat": 4,
 "nbformat_minor": 2
}
