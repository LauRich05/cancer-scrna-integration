{
 "cells": [
  {
   "cell_type": "markdown",
   "id": "97d22649",
   "metadata": {},
   "source": [
    "---\n",
    "# Plot cell type composition across samples and datasets \n",
    "L.Richards  \n",
    "2021-06-22  \n",
    "*/cluster/projects/pughlab/projects/cancer_scrna_integration/figures*   \n",
    "\n",
    "---"
   ]
  },
  {
   "cell_type": "code",
   "execution_count": 2,
   "id": "c7e98783",
   "metadata": {},
   "outputs": [],
   "source": [
    "library(ggplot2)\n",
    "library(ggpubr)\n",
    "library(data.table)\n",
    "library(ComplexHeatmap)\n",
    "library(tidyr)\n",
    "library(viridis)\n",
    "library(dplyr)\n",
    "\n",
    "setwd(\"~/Desktop/H4H/pughlab/projects/cancer_scrna_integration/figures\")"
   ]
  },
  {
   "cell_type": "markdown",
   "id": "1d725178",
   "metadata": {},
   "source": [
    "---\n",
    "## 1.0 Read and merge meta data\n",
    "---\n"
   ]
  },
  {
   "cell_type": "code",
   "execution_count": 3,
   "id": "4f6a93ab",
   "metadata": {},
   "outputs": [],
   "source": [
    "# read in study metadata\n",
    "file.path <- \"~/Desktop/H4H/pughlab/projects/cancer_scrna_integration/data\"\n",
    "datasets <- list.files(file.path)\n",
    "datasets <- datasets[-3] # remove Griffiths, we did end up using this dataset in study\n",
    "meta <- list()\n",
    "\n",
    "for (i in 1:length(datasets)){\n",
    "    \n",
    "    file <- paste0(file.path, \"/\", datasets[i], \"/\", datasets[i], \"_meta.csv\")\n",
    "    dat <- read.csv(file) \n",
    "    rownames(dat) <- dat$X\n",
    "    dat$Study <- datasets[i]\n",
    "    meta[[datasets[i]]] <- dat\n",
    "    \n",
    "}\n"
   ]
  },
  {
   "cell_type": "code",
   "execution_count": 4,
   "id": "f9840a14",
   "metadata": {},
   "outputs": [],
   "source": [
    "# format column names to match across studies\n",
    "colnames(meta$`Ma-LIHC`)[5] <- \"SampleID\"\n",
    "colnames(meta$`Richards-GBM-LGG`)[15] <- \"CellType\"\n",
    "\n",
    "# subset each dataframe\n",
    "dat <- lapply(meta, function(x){x[ ,c(\"Study\", \"SampleID\", \"CellType\")]})\n",
    "dat <- do.call(rbind, dat)"
   ]
  },
  {
   "cell_type": "markdown",
   "id": "30ad2a18",
   "metadata": {},
   "source": [
    "---\n",
    "## 2.0 Plot histogram of cell counts across samples\n",
    "---"
   ]
  },
  {
   "cell_type": "code",
   "execution_count": 22,
   "id": "55f98ade",
   "metadata": {},
   "outputs": [
    {
     "data": {
      "text/html": [
       "<table>\n",
       "<caption>A data.frame: 6 × 2</caption>\n",
       "<thead>\n",
       "\t<tr><th></th><th scope=col>Var1</th><th scope=col>Freq</th></tr>\n",
       "\t<tr><th></th><th scope=col>&lt;fct&gt;</th><th scope=col>&lt;int&gt;</th></tr>\n",
       "</thead>\n",
       "<tbody>\n",
       "\t<tr><th scope=row>1</th><td>P55_ICB_TKI    </td><td>4621</td></tr>\n",
       "\t<tr><th scope=row>2</th><td>P76_NoICB_NoTKI</td><td>7898</td></tr>\n",
       "\t<tr><th scope=row>3</th><td>P90_NoICB_NoTKI</td><td>8421</td></tr>\n",
       "\t<tr><th scope=row>4</th><td>P906_ICB_TKI   </td><td>2449</td></tr>\n",
       "\t<tr><th scope=row>5</th><td>P912_ICB_TKI   </td><td> 252</td></tr>\n",
       "\t<tr><th scope=row>6</th><td>P913_ICB_TKI   </td><td>3570</td></tr>\n",
       "</tbody>\n",
       "</table>\n"
      ],
      "text/latex": [
       "A data.frame: 6 × 2\n",
       "\\begin{tabular}{r|ll}\n",
       "  & Var1 & Freq\\\\\n",
       "  & <fct> & <int>\\\\\n",
       "\\hline\n",
       "\t1 & P55\\_ICB\\_TKI     & 4621\\\\\n",
       "\t2 & P76\\_NoICB\\_NoTKI & 7898\\\\\n",
       "\t3 & P90\\_NoICB\\_NoTKI & 8421\\\\\n",
       "\t4 & P906\\_ICB\\_TKI    & 2449\\\\\n",
       "\t5 & P912\\_ICB\\_TKI    &  252\\\\\n",
       "\t6 & P913\\_ICB\\_TKI    & 3570\\\\\n",
       "\\end{tabular}\n"
      ],
      "text/markdown": [
       "\n",
       "A data.frame: 6 × 2\n",
       "\n",
       "| <!--/--> | Var1 &lt;fct&gt; | Freq &lt;int&gt; |\n",
       "|---|---|---|\n",
       "| 1 | P55_ICB_TKI     | 4621 |\n",
       "| 2 | P76_NoICB_NoTKI | 7898 |\n",
       "| 3 | P90_NoICB_NoTKI | 8421 |\n",
       "| 4 | P906_ICB_TKI    | 2449 |\n",
       "| 5 | P912_ICB_TKI    |  252 |\n",
       "| 6 | P913_ICB_TKI    | 3570 |\n",
       "\n"
      ],
      "text/plain": [
       "  Var1            Freq\n",
       "1 P55_ICB_TKI     4621\n",
       "2 P76_NoICB_NoTKI 7898\n",
       "3 P90_NoICB_NoTKI 8421\n",
       "4 P906_ICB_TKI    2449\n",
       "5 P912_ICB_TKI     252\n",
       "6 P913_ICB_TKI    3570"
      ]
     },
     "metadata": {},
     "output_type": "display_data"
    }
   ],
   "source": [
    "counts <- table(dat$SampleID)\n",
    "counts <- data.frame(counts)\n",
    "head(counts)"
   ]
  },
  {
   "cell_type": "code",
   "execution_count": 24,
   "id": "6a122ff1",
   "metadata": {},
   "outputs": [
    {
     "data": {
      "text/html": [
       "<table>\n",
       "<caption>A data.frame: 50 × 2</caption>\n",
       "<thead>\n",
       "\t<tr><th></th><th scope=col>Var1</th><th scope=col>Freq</th></tr>\n",
       "\t<tr><th></th><th scope=col>&lt;fct&gt;</th><th scope=col>&lt;int&gt;</th></tr>\n",
       "</thead>\n",
       "<tbody>\n",
       "\t<tr><th scope=row>19</th><td>PRE.T.2       </td><td> 2717</td></tr>\n",
       "\t<tr><th scope=row>20</th><td>S02_P01_LCP21 </td><td>  692</td></tr>\n",
       "\t<tr><th scope=row>21</th><td>S07_P02_LCP28 </td><td>  109</td></tr>\n",
       "\t<tr><th scope=row>22</th><td>S08_P03_LCP26 </td><td>  297</td></tr>\n",
       "\t<tr><th scope=row>23</th><td>S09_P04_LCP25 </td><td>  207</td></tr>\n",
       "\t<tr><th scope=row>24</th><td>S10_P05_LCP23 </td><td>  126</td></tr>\n",
       "\t<tr><th scope=row>25</th><td>S11_P06_LCP29 </td><td>  935</td></tr>\n",
       "\t<tr><th scope=row>26</th><td>S12_P07_LCP30 </td><td>  792</td></tr>\n",
       "\t<tr><th scope=row>27</th><td>S15_P09_LCP38 </td><td> 1042</td></tr>\n",
       "\t<tr><th scope=row>28</th><td>S16_P10_LCP18 </td><td>  116</td></tr>\n",
       "\t<tr><th scope=row>29</th><td>S19_P11_LCP39 </td><td>  444</td></tr>\n",
       "\t<tr><th scope=row>30</th><td>S20_P12_LCP35 </td><td>  133</td></tr>\n",
       "\t<tr><th scope=row>31</th><td>S21_P13_LCP37 </td><td>  130</td></tr>\n",
       "\t<tr><th scope=row>32</th><td>S300_P02_LCP60</td><td> 1360</td></tr>\n",
       "\t<tr><th scope=row>33</th><td>S305_P06_LCP56</td><td>  136</td></tr>\n",
       "\t<tr><th scope=row>34</th><td>S351_P10_LCP34</td><td>  234</td></tr>\n",
       "\t<tr><th scope=row>35</th><td>S355_P13_LCP42</td><td>  491</td></tr>\n",
       "\t<tr><th scope=row>36</th><td>S358_P16_LCP46</td><td>  583</td></tr>\n",
       "\t<tr><th scope=row>37</th><td>S364_P21_LCP65</td><td>  580</td></tr>\n",
       "\t<tr><th scope=row>38</th><td>S365_P22_LCP66</td><td> 1345</td></tr>\n",
       "\t<tr><th scope=row>39</th><td>B_P_GBM593.1  </td><td> 1897</td></tr>\n",
       "\t<tr><th scope=row>40</th><td>B_P_GBM593.2  </td><td> 7622</td></tr>\n",
       "\t<tr><th scope=row>41</th><td>B_R_GBM898    </td><td> 3585</td></tr>\n",
       "\t<tr><th scope=row>42</th><td>C_P_GBM577.1  </td><td> 3129</td></tr>\n",
       "\t<tr><th scope=row>43</th><td>C_P_GBM577.2  </td><td> 6840</td></tr>\n",
       "\t<tr><th scope=row>44</th><td>C_R_GBM625    </td><td> 3521</td></tr>\n",
       "\t<tr><th scope=row>45</th><td>F_P_GBM620    </td><td> 1481</td></tr>\n",
       "\t<tr><th scope=row>46</th><td>F_R_GBM691    </td><td> 7474</td></tr>\n",
       "\t<tr><th scope=row>47</th><td>su001_post    </td><td>10429</td></tr>\n",
       "\t<tr><th scope=row>48</th><td>su001_pre     </td><td> 1149</td></tr>\n",
       "\t<tr><th scope=row>49</th><td>su002_post    </td><td>  205</td></tr>\n",
       "\t<tr><th scope=row>50</th><td>su002_pre     </td><td>  143</td></tr>\n",
       "\t<tr><th scope=row>51</th><td>su003_post    </td><td>  824</td></tr>\n",
       "\t<tr><th scope=row>52</th><td>su003_pre     </td><td>  235</td></tr>\n",
       "\t<tr><th scope=row>53</th><td>su004_post    </td><td>  813</td></tr>\n",
       "\t<tr><th scope=row>54</th><td>su004_pre     </td><td>  706</td></tr>\n",
       "\t<tr><th scope=row>55</th><td>su005_post    </td><td> 3797</td></tr>\n",
       "\t<tr><th scope=row>56</th><td>su005_pre     </td><td> 2712</td></tr>\n",
       "\t<tr><th scope=row>57</th><td>su006_post    </td><td> 4051</td></tr>\n",
       "\t<tr><th scope=row>58</th><td>su006_pre     </td><td> 5207</td></tr>\n",
       "\t<tr><th scope=row>59</th><td>su007_post    </td><td>  249</td></tr>\n",
       "\t<tr><th scope=row>60</th><td>su007_pre     </td><td> 1925</td></tr>\n",
       "\t<tr><th scope=row>61</th><td>su008_post    </td><td> 5032</td></tr>\n",
       "\t<tr><th scope=row>62</th><td>su008_pre     </td><td> 2540</td></tr>\n",
       "\t<tr><th scope=row>63</th><td>su009_post    </td><td> 4991</td></tr>\n",
       "\t<tr><th scope=row>64</th><td>su009_pre     </td><td> 4063</td></tr>\n",
       "\t<tr><th scope=row>65</th><td>su010_post    </td><td>  528</td></tr>\n",
       "\t<tr><th scope=row>66</th><td>su010_pre     </td><td>  108</td></tr>\n",
       "\t<tr><th scope=row>67</th><td>su012_post    </td><td>  783</td></tr>\n",
       "\t<tr><th scope=row>68</th><td>su012_pre     </td><td> 2540</td></tr>\n",
       "</tbody>\n",
       "</table>\n"
      ],
      "text/latex": [
       "A data.frame: 50 × 2\n",
       "\\begin{tabular}{r|ll}\n",
       "  & Var1 & Freq\\\\\n",
       "  & <fct> & <int>\\\\\n",
       "\\hline\n",
       "\t19 & PRE.T.2        &  2717\\\\\n",
       "\t20 & S02\\_P01\\_LCP21  &   692\\\\\n",
       "\t21 & S07\\_P02\\_LCP28  &   109\\\\\n",
       "\t22 & S08\\_P03\\_LCP26  &   297\\\\\n",
       "\t23 & S09\\_P04\\_LCP25  &   207\\\\\n",
       "\t24 & S10\\_P05\\_LCP23  &   126\\\\\n",
       "\t25 & S11\\_P06\\_LCP29  &   935\\\\\n",
       "\t26 & S12\\_P07\\_LCP30  &   792\\\\\n",
       "\t27 & S15\\_P09\\_LCP38  &  1042\\\\\n",
       "\t28 & S16\\_P10\\_LCP18  &   116\\\\\n",
       "\t29 & S19\\_P11\\_LCP39  &   444\\\\\n",
       "\t30 & S20\\_P12\\_LCP35  &   133\\\\\n",
       "\t31 & S21\\_P13\\_LCP37  &   130\\\\\n",
       "\t32 & S300\\_P02\\_LCP60 &  1360\\\\\n",
       "\t33 & S305\\_P06\\_LCP56 &   136\\\\\n",
       "\t34 & S351\\_P10\\_LCP34 &   234\\\\\n",
       "\t35 & S355\\_P13\\_LCP42 &   491\\\\\n",
       "\t36 & S358\\_P16\\_LCP46 &   583\\\\\n",
       "\t37 & S364\\_P21\\_LCP65 &   580\\\\\n",
       "\t38 & S365\\_P22\\_LCP66 &  1345\\\\\n",
       "\t39 & B\\_P\\_GBM593.1   &  1897\\\\\n",
       "\t40 & B\\_P\\_GBM593.2   &  7622\\\\\n",
       "\t41 & B\\_R\\_GBM898     &  3585\\\\\n",
       "\t42 & C\\_P\\_GBM577.1   &  3129\\\\\n",
       "\t43 & C\\_P\\_GBM577.2   &  6840\\\\\n",
       "\t44 & C\\_R\\_GBM625     &  3521\\\\\n",
       "\t45 & F\\_P\\_GBM620     &  1481\\\\\n",
       "\t46 & F\\_R\\_GBM691     &  7474\\\\\n",
       "\t47 & su001\\_post     & 10429\\\\\n",
       "\t48 & su001\\_pre      &  1149\\\\\n",
       "\t49 & su002\\_post     &   205\\\\\n",
       "\t50 & su002\\_pre      &   143\\\\\n",
       "\t51 & su003\\_post     &   824\\\\\n",
       "\t52 & su003\\_pre      &   235\\\\\n",
       "\t53 & su004\\_post     &   813\\\\\n",
       "\t54 & su004\\_pre      &   706\\\\\n",
       "\t55 & su005\\_post     &  3797\\\\\n",
       "\t56 & su005\\_pre      &  2712\\\\\n",
       "\t57 & su006\\_post     &  4051\\\\\n",
       "\t58 & su006\\_pre      &  5207\\\\\n",
       "\t59 & su007\\_post     &   249\\\\\n",
       "\t60 & su007\\_pre      &  1925\\\\\n",
       "\t61 & su008\\_post     &  5032\\\\\n",
       "\t62 & su008\\_pre      &  2540\\\\\n",
       "\t63 & su009\\_post     &  4991\\\\\n",
       "\t64 & su009\\_pre      &  4063\\\\\n",
       "\t65 & su010\\_post     &   528\\\\\n",
       "\t66 & su010\\_pre      &   108\\\\\n",
       "\t67 & su012\\_post     &   783\\\\\n",
       "\t68 & su012\\_pre      &  2540\\\\\n",
       "\\end{tabular}\n"
      ],
      "text/markdown": [
       "\n",
       "A data.frame: 50 × 2\n",
       "\n",
       "| <!--/--> | Var1 &lt;fct&gt; | Freq &lt;int&gt; |\n",
       "|---|---|---|\n",
       "| 19 | PRE.T.2        |  2717 |\n",
       "| 20 | S02_P01_LCP21  |   692 |\n",
       "| 21 | S07_P02_LCP28  |   109 |\n",
       "| 22 | S08_P03_LCP26  |   297 |\n",
       "| 23 | S09_P04_LCP25  |   207 |\n",
       "| 24 | S10_P05_LCP23  |   126 |\n",
       "| 25 | S11_P06_LCP29  |   935 |\n",
       "| 26 | S12_P07_LCP30  |   792 |\n",
       "| 27 | S15_P09_LCP38  |  1042 |\n",
       "| 28 | S16_P10_LCP18  |   116 |\n",
       "| 29 | S19_P11_LCP39  |   444 |\n",
       "| 30 | S20_P12_LCP35  |   133 |\n",
       "| 31 | S21_P13_LCP37  |   130 |\n",
       "| 32 | S300_P02_LCP60 |  1360 |\n",
       "| 33 | S305_P06_LCP56 |   136 |\n",
       "| 34 | S351_P10_LCP34 |   234 |\n",
       "| 35 | S355_P13_LCP42 |   491 |\n",
       "| 36 | S358_P16_LCP46 |   583 |\n",
       "| 37 | S364_P21_LCP65 |   580 |\n",
       "| 38 | S365_P22_LCP66 |  1345 |\n",
       "| 39 | B_P_GBM593.1   |  1897 |\n",
       "| 40 | B_P_GBM593.2   |  7622 |\n",
       "| 41 | B_R_GBM898     |  3585 |\n",
       "| 42 | C_P_GBM577.1   |  3129 |\n",
       "| 43 | C_P_GBM577.2   |  6840 |\n",
       "| 44 | C_R_GBM625     |  3521 |\n",
       "| 45 | F_P_GBM620     |  1481 |\n",
       "| 46 | F_R_GBM691     |  7474 |\n",
       "| 47 | su001_post     | 10429 |\n",
       "| 48 | su001_pre      |  1149 |\n",
       "| 49 | su002_post     |   205 |\n",
       "| 50 | su002_pre      |   143 |\n",
       "| 51 | su003_post     |   824 |\n",
       "| 52 | su003_pre      |   235 |\n",
       "| 53 | su004_post     |   813 |\n",
       "| 54 | su004_pre      |   706 |\n",
       "| 55 | su005_post     |  3797 |\n",
       "| 56 | su005_pre      |  2712 |\n",
       "| 57 | su006_post     |  4051 |\n",
       "| 58 | su006_pre      |  5207 |\n",
       "| 59 | su007_post     |   249 |\n",
       "| 60 | su007_pre      |  1925 |\n",
       "| 61 | su008_post     |  5032 |\n",
       "| 62 | su008_pre      |  2540 |\n",
       "| 63 | su009_post     |  4991 |\n",
       "| 64 | su009_pre      |  4063 |\n",
       "| 65 | su010_post     |   528 |\n",
       "| 66 | su010_pre      |   108 |\n",
       "| 67 | su012_post     |   783 |\n",
       "| 68 | su012_pre      |  2540 |\n",
       "\n"
      ],
      "text/plain": [
       "   Var1           Freq \n",
       "19 PRE.T.2         2717\n",
       "20 S02_P01_LCP21    692\n",
       "21 S07_P02_LCP28    109\n",
       "22 S08_P03_LCP26    297\n",
       "23 S09_P04_LCP25    207\n",
       "24 S10_P05_LCP23    126\n",
       "25 S11_P06_LCP29    935\n",
       "26 S12_P07_LCP30    792\n",
       "27 S15_P09_LCP38   1042\n",
       "28 S16_P10_LCP18    116\n",
       "29 S19_P11_LCP39    444\n",
       "30 S20_P12_LCP35    133\n",
       "31 S21_P13_LCP37    130\n",
       "32 S300_P02_LCP60  1360\n",
       "33 S305_P06_LCP56   136\n",
       "34 S351_P10_LCP34   234\n",
       "35 S355_P13_LCP42   491\n",
       "36 S358_P16_LCP46   583\n",
       "37 S364_P21_LCP65   580\n",
       "38 S365_P22_LCP66  1345\n",
       "39 B_P_GBM593.1    1897\n",
       "40 B_P_GBM593.2    7622\n",
       "41 B_R_GBM898      3585\n",
       "42 C_P_GBM577.1    3129\n",
       "43 C_P_GBM577.2    6840\n",
       "44 C_R_GBM625      3521\n",
       "45 F_P_GBM620      1481\n",
       "46 F_R_GBM691      7474\n",
       "47 su001_post     10429\n",
       "48 su001_pre       1149\n",
       "49 su002_post       205\n",
       "50 su002_pre        143\n",
       "51 su003_post       824\n",
       "52 su003_pre        235\n",
       "53 su004_post       813\n",
       "54 su004_pre        706\n",
       "55 su005_post      3797\n",
       "56 su005_pre       2712\n",
       "57 su006_post      4051\n",
       "58 su006_pre       5207\n",
       "59 su007_post       249\n",
       "60 su007_pre       1925\n",
       "61 su008_post      5032\n",
       "62 su008_pre       2540\n",
       "63 su009_post      4991\n",
       "64 su009_pre       4063\n",
       "65 su010_post       528\n",
       "66 su010_pre        108\n",
       "67 su012_post       783\n",
       "68 su012_pre       2540"
      ]
     },
     "metadata": {},
     "output_type": "display_data"
    }
   ],
   "source": [
    "counts[19:nrow(counts), ]"
   ]
  },
  {
   "cell_type": "code",
   "execution_count": 21,
   "id": "95281b1a",
   "metadata": {},
   "outputs": [
    {
     "data": {
      "text/html": [
       "<strong>pdf:</strong> 2"
      ],
      "text/latex": [
       "\\textbf{pdf:} 2"
      ],
      "text/markdown": [
       "**pdf:** 2"
      ],
      "text/plain": [
       "pdf \n",
       "  2 "
      ]
     },
     "metadata": {},
     "output_type": "display_data"
    }
   ],
   "source": [
    "cells <- ggplot(counts, aes(x=Var1, y=Freq)) +\n",
    "             geom_bar(stat=\"identity\", fill = \"grey\", color = \"black\") + \n",
    "             theme_classic() +\n",
    "             theme(axis.text.x = element_text(angle = 90, vjust = 0.5, hjust=1)) +\n",
    "             xlab(\"\") + ylab(\"\") + \n",
    "             geom_hline(yintercept = 500, lty = 2, color = \"black\", lwd = 0.8) \n",
    "\n",
    "\n",
    "pdf(\"FigureS1_Cell_Histogram.pdf\", width = 13, height = 5)\n",
    "cells\n",
    "dev.off()"
   ]
  },
  {
   "cell_type": "markdown",
   "id": "7001311d",
   "metadata": {},
   "source": [
    "---\n",
    "## 3.0 Plot dotplot of per sample cell type proportions\n",
    "---\n",
    "\n",
    "Plot proportion of each cell type per patient"
   ]
  },
  {
   "cell_type": "code",
   "execution_count": 70,
   "id": "ff7c9d23",
   "metadata": {},
   "outputs": [],
   "source": [
    "# get cell counts per sample for each cell type\n",
    "cellno <- dat %>% count(Study, SampleID, CellType, sort = FALSE)\n",
    "\n",
    "# get proportion cell type contributes to total cells within each sample\n",
    "cellno <- group_by(cellno, SampleID) %>% mutate(percent = n/sum(n))"
   ]
  },
  {
   "cell_type": "code",
   "execution_count": 71,
   "id": "01394531",
   "metadata": {},
   "outputs": [
    {
     "data": {
      "text/html": [
       "<table>\n",
       "<caption>A grouped_df: 6 × 5</caption>\n",
       "<thead>\n",
       "\t<tr><th scope=col>Study</th><th scope=col>SampleID</th><th scope=col>CellType</th><th scope=col>n</th><th scope=col>percent</th></tr>\n",
       "\t<tr><th scope=col>&lt;chr&gt;</th><th scope=col>&lt;fct&gt;</th><th scope=col>&lt;fct&gt;</th><th scope=col>&lt;int&gt;</th><th scope=col>&lt;dbl&gt;</th></tr>\n",
       "</thead>\n",
       "<tbody>\n",
       "\t<tr><td>Bi-RCC</td><td>P55_ICB_TKI</td><td>B_cells    </td><td> 11</td><td>0.0023804371</td></tr>\n",
       "\t<tr><td>Bi-RCC</td><td>P55_ICB_TKI</td><td>DCs        </td><td> 10</td><td>0.0021640338</td></tr>\n",
       "\t<tr><td>Bi-RCC</td><td>P55_ICB_TKI</td><td>Endothelial</td><td>  1</td><td>0.0002164034</td></tr>\n",
       "\t<tr><td>Bi-RCC</td><td>P55_ICB_TKI</td><td>Macrophages</td><td>663</td><td>0.1434754382</td></tr>\n",
       "\t<tr><td>Bi-RCC</td><td>P55_ICB_TKI</td><td>Malignant  </td><td> 92</td><td>0.0199091106</td></tr>\n",
       "\t<tr><td>Bi-RCC</td><td>P55_ICB_TKI</td><td>Mast_cells </td><td>  4</td><td>0.0008656135</td></tr>\n",
       "</tbody>\n",
       "</table>\n"
      ],
      "text/latex": [
       "A grouped\\_df: 6 × 5\n",
       "\\begin{tabular}{lllll}\n",
       " Study & SampleID & CellType & n & percent\\\\\n",
       " <chr> & <fct> & <fct> & <int> & <dbl>\\\\\n",
       "\\hline\n",
       "\t Bi-RCC & P55\\_ICB\\_TKI & B\\_cells     &  11 & 0.0023804371\\\\\n",
       "\t Bi-RCC & P55\\_ICB\\_TKI & DCs         &  10 & 0.0021640338\\\\\n",
       "\t Bi-RCC & P55\\_ICB\\_TKI & Endothelial &   1 & 0.0002164034\\\\\n",
       "\t Bi-RCC & P55\\_ICB\\_TKI & Macrophages & 663 & 0.1434754382\\\\\n",
       "\t Bi-RCC & P55\\_ICB\\_TKI & Malignant   &  92 & 0.0199091106\\\\\n",
       "\t Bi-RCC & P55\\_ICB\\_TKI & Mast\\_cells  &   4 & 0.0008656135\\\\\n",
       "\\end{tabular}\n"
      ],
      "text/markdown": [
       "\n",
       "A grouped_df: 6 × 5\n",
       "\n",
       "| Study &lt;chr&gt; | SampleID &lt;fct&gt; | CellType &lt;fct&gt; | n &lt;int&gt; | percent &lt;dbl&gt; |\n",
       "|---|---|---|---|---|\n",
       "| Bi-RCC | P55_ICB_TKI | B_cells     |  11 | 0.0023804371 |\n",
       "| Bi-RCC | P55_ICB_TKI | DCs         |  10 | 0.0021640338 |\n",
       "| Bi-RCC | P55_ICB_TKI | Endothelial |   1 | 0.0002164034 |\n",
       "| Bi-RCC | P55_ICB_TKI | Macrophages | 663 | 0.1434754382 |\n",
       "| Bi-RCC | P55_ICB_TKI | Malignant   |  92 | 0.0199091106 |\n",
       "| Bi-RCC | P55_ICB_TKI | Mast_cells  |   4 | 0.0008656135 |\n",
       "\n"
      ],
      "text/plain": [
       "  Study  SampleID    CellType    n   percent     \n",
       "1 Bi-RCC P55_ICB_TKI B_cells      11 0.0023804371\n",
       "2 Bi-RCC P55_ICB_TKI DCs          10 0.0021640338\n",
       "3 Bi-RCC P55_ICB_TKI Endothelial   1 0.0002164034\n",
       "4 Bi-RCC P55_ICB_TKI Macrophages 663 0.1434754382\n",
       "5 Bi-RCC P55_ICB_TKI Malignant    92 0.0199091106\n",
       "6 Bi-RCC P55_ICB_TKI Mast_cells    4 0.0008656135"
      ]
     },
     "metadata": {},
     "output_type": "display_data"
    }
   ],
   "source": [
    "head(cellno)"
   ]
  },
  {
   "cell_type": "code",
   "execution_count": 79,
   "id": "77e04d43",
   "metadata": {},
   "outputs": [
    {
     "data": {
      "text/html": [
       "<strong>pdf:</strong> 2"
      ],
      "text/latex": [
       "\\textbf{pdf:} 2"
      ],
      "text/markdown": [
       "**pdf:** 2"
      ],
      "text/plain": [
       "pdf \n",
       "  2 "
      ]
     },
     "metadata": {},
     "output_type": "display_data"
    }
   ],
   "source": [
    "pdf(\"FigureS1_CellType_Dotplot.pdf\", width = 16, height = 8.5)\n",
    "ggplot(cellno, aes(x = SampleID, y = CellType, fill = n, size = percent)) + \n",
    "    geom_point(pch = 21) +\n",
    "    scale_fill_viridis_c(option = \"plasma\", name = 'Cell Count') +\n",
    "    cowplot::theme_cowplot() +\n",
    "    ylab('') + xlab('') + \n",
    "    theme(axis.text.x = element_text(angle = 90, hjust = 0.95, size = 12)) +\n",
    "    theme(axis.text.y = element_text(size = 15))\n",
    "\n",
    "dev.off()"
   ]
  },
  {
   "cell_type": "code",
   "execution_count": 83,
   "id": "79d76691",
   "metadata": {},
   "outputs": [
    {
     "data": {
      "text/html": [
       "<table>\n",
       "<caption>A grouped_df: 6 × 5</caption>\n",
       "<thead>\n",
       "\t<tr><th scope=col>Study</th><th scope=col>SampleID</th><th scope=col>CellType</th><th scope=col>n</th><th scope=col>percent</th></tr>\n",
       "\t<tr><th scope=col>&lt;chr&gt;</th><th scope=col>&lt;fct&gt;</th><th scope=col>&lt;fct&gt;</th><th scope=col>&lt;int&gt;</th><th scope=col>&lt;dbl&gt;</th></tr>\n",
       "</thead>\n",
       "<tbody>\n",
       "\t<tr><td>Ma-LIHC</td><td>S02_P01_LCP21</td><td>B_cells    </td><td>  6</td><td>0.00867052</td></tr>\n",
       "\t<tr><td>Ma-LIHC</td><td>S02_P01_LCP21</td><td>Endothelial</td><td>219</td><td>0.31647399</td></tr>\n",
       "\t<tr><td>Ma-LIHC</td><td>S02_P01_LCP21</td><td>Macrophages</td><td>  9</td><td>0.01300578</td></tr>\n",
       "\t<tr><td>Ma-LIHC</td><td>S02_P01_LCP21</td><td>T_cells    </td><td>171</td><td>0.24710983</td></tr>\n",
       "\t<tr><td>Ma-LIHC</td><td>S02_P01_LCP21</td><td>CAFs       </td><td>284</td><td>0.41040462</td></tr>\n",
       "\t<tr><td>Ma-LIHC</td><td>S02_P01_LCP21</td><td>HPCs       </td><td>  3</td><td>0.00433526</td></tr>\n",
       "</tbody>\n",
       "</table>\n"
      ],
      "text/latex": [
       "A grouped\\_df: 6 × 5\n",
       "\\begin{tabular}{lllll}\n",
       " Study & SampleID & CellType & n & percent\\\\\n",
       " <chr> & <fct> & <fct> & <int> & <dbl>\\\\\n",
       "\\hline\n",
       "\t Ma-LIHC & S02\\_P01\\_LCP21 & B\\_cells     &   6 & 0.00867052\\\\\n",
       "\t Ma-LIHC & S02\\_P01\\_LCP21 & Endothelial & 219 & 0.31647399\\\\\n",
       "\t Ma-LIHC & S02\\_P01\\_LCP21 & Macrophages &   9 & 0.01300578\\\\\n",
       "\t Ma-LIHC & S02\\_P01\\_LCP21 & T\\_cells     & 171 & 0.24710983\\\\\n",
       "\t Ma-LIHC & S02\\_P01\\_LCP21 & CAFs        & 284 & 0.41040462\\\\\n",
       "\t Ma-LIHC & S02\\_P01\\_LCP21 & HPCs        &   3 & 0.00433526\\\\\n",
       "\\end{tabular}\n"
      ],
      "text/markdown": [
       "\n",
       "A grouped_df: 6 × 5\n",
       "\n",
       "| Study &lt;chr&gt; | SampleID &lt;fct&gt; | CellType &lt;fct&gt; | n &lt;int&gt; | percent &lt;dbl&gt; |\n",
       "|---|---|---|---|---|\n",
       "| Ma-LIHC | S02_P01_LCP21 | B_cells     |   6 | 0.00867052 |\n",
       "| Ma-LIHC | S02_P01_LCP21 | Endothelial | 219 | 0.31647399 |\n",
       "| Ma-LIHC | S02_P01_LCP21 | Macrophages |   9 | 0.01300578 |\n",
       "| Ma-LIHC | S02_P01_LCP21 | T_cells     | 171 | 0.24710983 |\n",
       "| Ma-LIHC | S02_P01_LCP21 | CAFs        | 284 | 0.41040462 |\n",
       "| Ma-LIHC | S02_P01_LCP21 | HPCs        |   3 | 0.00433526 |\n",
       "\n"
      ],
      "text/plain": [
       "  Study   SampleID      CellType    n   percent   \n",
       "1 Ma-LIHC S02_P01_LCP21 B_cells       6 0.00867052\n",
       "2 Ma-LIHC S02_P01_LCP21 Endothelial 219 0.31647399\n",
       "3 Ma-LIHC S02_P01_LCP21 Macrophages   9 0.01300578\n",
       "4 Ma-LIHC S02_P01_LCP21 T_cells     171 0.24710983\n",
       "5 Ma-LIHC S02_P01_LCP21 CAFs        284 0.41040462\n",
       "6 Ma-LIHC S02_P01_LCP21 HPCs          3 0.00433526"
      ]
     },
     "metadata": {},
     "output_type": "display_data"
    }
   ],
   "source": [
    "head(cellno[cellno$Study == \"Ma-LIHC\", ])"
   ]
  },
  {
   "cell_type": "code",
   "execution_count": null,
   "id": "006fa715",
   "metadata": {},
   "outputs": [],
   "source": []
  }
 ],
 "metadata": {
  "kernelspec": {
   "display_name": "R",
   "language": "R",
   "name": "ir"
  },
  "language_info": {
   "codemirror_mode": "r",
   "file_extension": ".r",
   "mimetype": "text/x-r-source",
   "name": "R",
   "pygments_lexer": "r",
   "version": "3.6.3"
  }
 },
 "nbformat": 4,
 "nbformat_minor": 5
}
