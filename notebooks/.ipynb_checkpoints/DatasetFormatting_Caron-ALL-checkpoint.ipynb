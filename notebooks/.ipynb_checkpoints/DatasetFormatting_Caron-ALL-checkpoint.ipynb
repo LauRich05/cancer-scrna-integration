{
 "cells": [
  {
   "cell_type": "markdown",
   "metadata": {},
   "source": [
    "---\n",
    "# Dataset Formatting: Caron-LIHC\n",
    "*L.Richards*  \n",
    "*2020-06-07*  \n",
    "*/cluster/projects/pughlab/projects/cancer_scrna_integration/data/Caron-ALL/*  \n",
    "\n",
    "---\n",
    "\n",
    "Format Caron-ALL dataset. This will be input for data integration tools.\n",
    "\n",
    "AUTHORS HAVE NOT MADE CELL LEVEL METADATA AVAILABLE FOR THIS STUDY."
   ]
  },
  {
   "cell_type": "code",
   "execution_count": null,
   "metadata": {},
   "outputs": [],
   "source": [
    "library(Seurat) #v4.0.1\n",
    "library(earlycross) # v0.1\n",
    "library(Matrix)"
   ]
  },
  {
   "cell_type": "code",
   "execution_count": null,
   "metadata": {
    "collapsed": true
   },
   "outputs": [],
   "source": [
    "# read in count matrices and merge\n",
    "\n",
    "# extract sample name of each file\n",
    "matrix_dir <- \"/cluster/projects/pughlab/projects/cancer_scrna_integration/data/Caron-ALL/original-data/\"\n",
    "samples <- list.files(matrix_dir, pattern = \"gz\")\n",
    "samples <- sapply(strsplit(samples,\"\\\\.\"), `[`, 1)\n",
    "\n",
    "\n",
    "# read in each samples count matrix\n",
    "for(i in 1:length(samples)){\n",
    "    \n",
    "    barcode.path <- paste0(matrix_dir, samples[i], \".\", \"barcodes.tsv.gz\")\n",
    "    features.path <- paste0(matrix_dir, samples[i], \".\", \"genes.tsv.gz\")\n",
    "    matrix.path <- paste0(matrix_dir, samples[i], \".\", \"matrix.mtx.gz\")\n",
    "    mat <- readMM(file = matrix.path)\n",
    "    feature.names <- read.delim(features.path,\n",
    "                                header = FALSE,\n",
    "                                stringsAsFactors = FALSE)\n",
    "    barcode.names <- read.delim(barcode.path,\n",
    "                                header = FALSE,\n",
    "                                stringsAsFactors = FALSE)\n",
    "    colnames(mat) <- barcode.names$V1\n",
    "    rownames(mat) <- feature.names$V1\n",
    "       \n",
    "}\n",
    "\n"
   ]
  },
  {
   "cell_type": "markdown",
   "metadata": {},
   "source": [
    "---\n",
    "## 1.0 Format downloaded public data\n",
    "---\n",
    "\n",
    "Downloaded data from https://www.ncbi.nlm.nih.gov/geo/query/acc.cgi?acc=GSE132509"
   ]
  },
  {
   "cell_type": "code",
   "execution_count": null,
   "metadata": {
    "collapsed": true
   },
   "outputs": [],
   "source": [
    "### Set 1\n",
    "\n",
    "# read and format files from GEO accession\n",
    "meta <- read.table(\"./original-data/Set1/GSE125449_Set1_samples.txt.gz\",\n",
    "                   sep = \"\\t\",\n",
    "                   header = T\n",
    "                  )\n",
    "rownames(meta) <- meta$Cell.Barcode\n",
    "\n",
    "counts <- Read10X(\"./original-data/Set1/\")\n",
    "\n",
    "# combine into a seurat object\n",
    "set1 <- CreateSeuratObject(counts = counts, \n",
    "                          meta.data = meta\n",
    "                         )\n"
   ]
  },
  {
   "cell_type": "code",
   "execution_count": null,
   "metadata": {
    "collapsed": true
   },
   "outputs": [],
   "source": [
    "### Set 1\n",
    "\n",
    "# read and format files from GEO accession\n",
    "meta <- read.table(\"./original-data/Set2/GSE125449_Set2_samples.txt.gz\",\n",
    "                   sep = \"\\t\",\n",
    "                   header = T\n",
    "                  )\n",
    "rownames(meta) <- meta$Cell.Barcode\n",
    "\n",
    "counts <- Read10X(\"./original-data/Set2/\")\n",
    "\n",
    "# combine into a seurat object\n",
    "set2 <- CreateSeuratObject(counts = counts, \n",
    "                          meta.data = meta\n",
    "                         )"
   ]
  },
  {
   "cell_type": "code",
   "execution_count": null,
   "metadata": {
    "collapsed": true
   },
   "outputs": [],
   "source": [
    "### COMBINE Set1 & Set2\n",
    "combo <- merge(set1, y = set2)\n",
    "\n",
    "# save seurat object\n",
    "saveRDS(combo, file = \"Ma-LIHC_seurat.rds\")"
   ]
  },
  {
   "cell_type": "markdown",
   "metadata": {},
   "source": [
    "---\n",
    "## 2.0 Output files in 10x common format\n",
    "---\n",
    "\n",
    "Output counts matrix with 10x/CellRanger formatting style and metadata csv."
   ]
  },
  {
   "cell_type": "code",
   "execution_count": null,
   "metadata": {
    "collapsed": true
   },
   "outputs": [],
   "source": [
    "# save metadata as csv file\n",
    "meta <- data.frame(combo@meta.data)\n",
    "write.csv(meta, file = \"Ma-LIHC_meta.csv\")"
   ]
  },
  {
   "cell_type": "code",
   "execution_count": null,
   "metadata": {
    "collapsed": true
   },
   "outputs": [],
   "source": [
    "# export count matrix as default 10x CellRanger output\n",
    "Write10X(combo, dir = \"./\")"
   ]
  },
  {
   "cell_type": "markdown",
   "metadata": {},
   "source": [
    "---"
   ]
  }
 ],
 "metadata": {
  "kernelspec": {
   "display_name": "R",
   "language": "R",
   "name": "ir"
  },
  "language_info": {
   "codemirror_mode": "r",
   "file_extension": ".r",
   "mimetype": "text/x-r-source",
   "name": "R",
   "pygments_lexer": "r",
   "version": "3.6.3"
  }
 },
 "nbformat": 4,
 "nbformat_minor": 2
}
