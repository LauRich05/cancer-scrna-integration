{
 "cells": [
  {
   "cell_type": "markdown",
   "metadata": {},
   "source": [
    "---\n",
    "# Dataset Formatting: Yost-BCC\n",
    "*L.Richards*  \n",
    "*2020-06-07*  \n",
    "*/cluster/projects/pughlab/projects/cancer_scrna_integration/data/Yost-BCC/*  \n",
    "\n",
    "---\n",
    "\n",
    "Format Yost-BCC dataset. Yost et al., also profiled SCC, but the SCC dataset does not have any malignant cells. This will be input for data integration tools."
   ]
  },
  {
   "cell_type": "code",
   "execution_count": null,
   "metadata": {
    "collapsed": true
   },
   "outputs": [],
   "source": [
    "library(Seurat) #v4.0.1\n",
    "library(earlycross) # v0.1\n",
    "library(data.table)"
   ]
  },
  {
   "cell_type": "markdown",
   "metadata": {},
   "source": [
    "---\n",
    "## 1.0 Format downloaded public data\n",
    "---\n",
    "\n",
    "Downloaded data from https://www.ncbi.nlm.nih.gov/geo/query/acc.cgi?acc=GSE123813"
   ]
  },
  {
   "cell_type": "code",
   "execution_count": null,
   "metadata": {
    "collapsed": true
   },
   "outputs": [],
   "source": [
    "### BCC\n",
    "\n",
    "# read and format files from GEO accession\n",
    "meta <- read.table(\"./original-data/GSE123813_bcc_all_metadata.txt.gz\",\n",
    "                   sep = \"\\t\",\n",
    "                   header = T\n",
    "                  )\n",
    "rownames(meta) <- meta$cell.id\n",
    "meta$CancerType <- \"BCC\"\n",
    "colnames(meta) <- gsub(\"UMAP\", \"BCC_UMAP\", colnames(meta))\n",
    "\n",
    "counts <- read.table(\"./original-data/GSE123813_bcc_scRNA_counts.txt.gz\",\n",
    "                   sep = \"\\t\",\n",
    "                   header = T\n",
    "                  )\n",
    "\n",
    "# combine into a seurat object\n",
    "bcc <- CreateSeuratObject(counts = counts, \n",
    "                          meta.data = meta\n",
    "                         )"
   ]
  },
  {
   "cell_type": "code",
   "execution_count": null,
   "metadata": {
    "collapsed": true
   },
   "outputs": [],
   "source": [
    "# add a sample ID field\n",
    "bcc@meta.data$SampleID <- paste0(bcc@meta.data$patient,\n",
    "                                \"_\", \n",
    "                                bcc@meta.data$treatment\n",
    "                                )\n",
    "\n",
    "# simplify author cell type labels into more generic terms\n",
    "bcc@meta.data$CellType <- bcc@meta.data$cluster\n",
    "bcc@meta.data$CellType <- gsub(\"B_cells_1\", \"B_cells\", bcc@meta.data$CellType)\n",
    "bcc@meta.data$CellType <- gsub(\"B_cells_2\", \"B_cells\", bcc@meta.data$CellType)\n",
    "bcc@meta.data$CellType <- gsub(\"CD4_T_cells\", \"T_cells\", bcc@meta.data$CellType)\n",
    "bcc@meta.data$CellType <- gsub(\"CD8_act_T_cells\", \"T_cells\", bcc@meta.data$CellType)\n",
    "bcc@meta.data$CellType <- gsub(\"CD8_ex_T_cells\", \"T_cells\", bcc@meta.data$CellType)\n",
    "bcc@meta.data$CellType <- gsub(\"CD8_mem_T_cells\", \"T_cells\", bcc@meta.data$CellType)\n",
    "bcc@meta.data$CellType <- gsub(\"Tcell_prolif\", \"T_cells\", bcc@meta.data$CellType)\n",
    "bcc@meta.data$CellType <- gsub(\"Tregs\", \"T_cells\", bcc@meta.data$CellType)\n",
    "bcc@meta.data$CellType <- gsub(\"Tumor_1\", \"Malignant\", bcc@meta.data$CellType)\n",
    "bcc@meta.data$CellType <- gsub(\"Tumor_2\", \"Malignant\", bcc@meta.data$CellType)\n",
    "\n",
    "# save seurat object\n",
    "saveRDS(bcc, file = \"Yost-BCC_seurat.rds\")"
   ]
  },
  {
   "cell_type": "markdown",
   "metadata": {},
   "source": [
    "---\n",
    "## 2.0 Output files in 10x common format\n",
    "---\n",
    "\n",
    "Output counts matrix with 10x/CellRanger formatting style and metadata csv."
   ]
  },
  {
   "cell_type": "code",
   "execution_count": null,
   "metadata": {
    "collapsed": true
   },
   "outputs": [],
   "source": [
    "# save metadata as csv file\n",
    "meta <- data.frame(bcc@meta.data)\n",
    "write.csv(meta, file = \"Yost-BCC_meta.csv\")"
   ]
  },
  {
   "cell_type": "code",
   "execution_count": null,
   "metadata": {
    "collapsed": true
   },
   "outputs": [],
   "source": [
    "# export count matrix as default 10x CellRanger output\n",
    "Write10X(bcc, dir = \"./\")"
   ]
  },
  {
   "cell_type": "markdown",
   "metadata": {},
   "source": [
    "---"
   ]
  }
 ],
 "metadata": {
  "kernelspec": {
   "display_name": "R",
   "language": "R",
   "name": "ir"
  },
  "language_info": {
   "codemirror_mode": "r",
   "file_extension": ".r",
   "mimetype": "text/x-r-source",
   "name": "R",
   "pygments_lexer": "r",
   "version": "3.6.3"
  }
 },
 "nbformat": 4,
 "nbformat_minor": 2
}
