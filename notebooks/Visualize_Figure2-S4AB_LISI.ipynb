{
 "cells": [
  {
   "cell_type": "markdown",
   "metadata": {},
   "source": [
    "---\n",
    "# Visualize LISI metric and runtime\n",
    "*L.Richards*  \n",
    "*2021-06-09*    \n",
    "*/cluster/projects/pughlab/projects/cancer_scrna_integration/figures*    \n",
    "\n",
    "---\n",
    "\n",
    "https://davemcg.github.io/post/lets-plot-scrna-dotplots/"
   ]
  },
  {
   "cell_type": "code",
   "execution_count": 6,
   "metadata": {},
   "outputs": [],
   "source": [
    "library(ggplot2)\n",
    "library(ggpubr)\n",
    "library(data.table)\n",
    "library(ComplexHeatmap)\n",
    "library(tidyr)\n",
    "library(viridis)\n",
    "\n",
    "setwd(\"~/Desktop/H4H/pughlab/projects/cancer_scrna_integration/figures\")"
   ]
  },
  {
   "cell_type": "markdown",
   "metadata": {
    "collapsed": true
   },
   "source": [
    "---\n",
    "## 1.0 Calculate median LISI scores\n",
    "---\n",
    "\n",
    "Make a big matrix of metadata across all samples, this will require formatting header columns the be the same. "
   ]
  },
  {
   "cell_type": "code",
   "execution_count": 8,
   "metadata": {},
   "outputs": [],
   "source": [
    "lisi <- fread(\"~/Desktop/H4H/pughlab/projects/cancer_scrna_integration/evalutation/lisi/LISI_calculations.csv\")"
   ]
  },
  {
   "cell_type": "code",
   "execution_count": 9,
   "metadata": {},
   "outputs": [],
   "source": [
    "# load lisi scores (0 - 1)\n",
    "#lisi <- fread(\"~/Desktop/H4H/pughlab/projects/cancer_scrna_integration/evalutation/lisi/LISI_calculations.csv\")\n",
    "lisi <- data.frame(lisi)\n",
    "lisi$V1 <- NULL\n",
    "rownames(lisi) <- lisi$V1.1\n",
    "lisi$V1.1 <- NULL"
   ]
  },
  {
   "cell_type": "markdown",
   "metadata": {},
   "source": [
    "---\n",
    "### 1.1 Batch LISI for Samples and PatientIDs\n",
    "---\n"
   ]
  },
  {
   "cell_type": "code",
   "execution_count": null,
   "metadata": {},
   "outputs": [],
   "source": [
    "# make a rowID where you combine Study and Method together\n",
    "lisi$Study_Method <- paste0(lisi$Study, \"_\", lisi$Method)"
   ]
  },
  {
   "cell_type": "code",
   "execution_count": null,
   "metadata": {},
   "outputs": [],
   "source": [
    "# calculate median LISI for each study\n",
    "\n",
    "# SAMPLEID\n",
    "sample <- aggregate(LISI_SampleID_Norm ~ Study_Method, lisi, median)\n",
    "sample$Category <- \"SampleID\"\n",
    "colnames(sample)[2] <- \"Median_LISI\"\n",
    "\n",
    "# Patient ID\n",
    "patient <- aggregate(LISI_PatientID_Norm ~ Study_Method, lisi, median)\n",
    "patient$Category <- \"PatientID\"\n",
    "colnames(patient)[2] <- \"Median_LISI\""
   ]
  },
  {
   "cell_type": "code",
   "execution_count": null,
   "metadata": {},
   "outputs": [],
   "source": [
    "# combine sample and patient batch lisi together & mutate\n",
    "lisi_batch <- rbind(sample, patient)"
   ]
  },
  {
   "cell_type": "markdown",
   "metadata": {},
   "source": [
    "---\n",
    "### 1.2 Cell Type LISI for SampleID\n",
    "---"
   ]
  },
  {
   "cell_type": "code",
   "execution_count": null,
   "metadata": {},
   "outputs": [],
   "source": [
    "# CELL TYPE\n",
    "\n",
    "lisi$Study_Method_CellType <- paste0(lisi$Study_Method, \"_\", lisi$CellType)\n",
    "celltype <- aggregate(LISI_CellType_SampleID_Norm ~ Study_Method_CellType, lisi, median)\n",
    "celltype$Category <- \"SampleID\"\n"
   ]
  },
  {
   "cell_type": "code",
   "execution_count": null,
   "metadata": {},
   "outputs": [],
   "source": [
    "# extract cell types\n",
    "cat <- sapply(strsplit(celltype$Study_Method_CellType,\"_\"), `[`, -c(1:2))\n",
    "cat <- lapply(cat, function(x){paste(x, collapse = \"_\")})\n",
    "\n",
    "# reformat studyID \n",
    "study <- sapply(strsplit(celltype$Study_Method_CellType,\"_\"), `[`, c(1:2))\n",
    "study <- t(study)\n",
    "study <- paste(study[,1], study[ ,2], sep = \"_\")\n",
    "\n",
    "# add celltypes to dataframe\n",
    "celltype$Category <- unlist(cat)\n",
    "celltype$Study_Method_CellType <- study\n",
    "\n",
    "# rename columns\n",
    "colnames(celltype) <- c(\"Study_Method\", \"Median_LISI\", \"Category\")"
   ]
  },
  {
   "cell_type": "markdown",
   "metadata": {},
   "source": [
    "---\n",
    "## 2.0 Visualize LISI scores with dotplot\n",
    "---"
   ]
  },
  {
   "cell_type": "code",
   "execution_count": null,
   "metadata": {},
   "outputs": [],
   "source": [
    "unique(celltype$Category)"
   ]
  },
  {
   "cell_type": "code",
   "execution_count": null,
   "metadata": {},
   "outputs": [],
   "source": [
    "res <- rbind(lisi_batch, celltype) \n",
    "res$Category <- factor(res$Category,\n",
    "                       levels = c(unique(celltype$Category), \"PatientID\", \"SampleID\")\n",
    "                      )\n",
    "\n",
    "# remove lisi batch patient, since not all cohorts have multiple samples\n",
    "# from the same patient anyways\n",
    "res <- res[!res$Category == \"PatientID\", ]\n",
    "write.csv(res, file = \"LISI_integration_median.csv\")"
   ]
  },
  {
   "cell_type": "code",
   "execution_count": null,
   "metadata": {},
   "outputs": [],
   "source": [
    "res <- read.csv(\"LISI_integration_median.csv\")\n",
    "head(res)"
   ]
  },
  {
   "cell_type": "code",
   "execution_count": null,
   "metadata": {},
   "outputs": [],
   "source": [
    "res <- read.csv(\"LISI_integration_median.csv\")\n",
    "\n",
    "# order cells (y-axis)\n",
    "cells <- as.character(unique(res$Category)[!unique(res$Category) %in% c(\"PatientID\", \"SampleID\")])\n",
    "res$Category <- factor(res$Category,\n",
    "                       levels = c(cells, \n",
    "                                  \"PatientID\", \n",
    "                                  \"SampleID\")\n",
    "                      )"
   ]
  },
  {
   "cell_type": "code",
   "execution_count": null,
   "metadata": {},
   "outputs": [],
   "source": [
    "# order study-method (x-axis)\n",
    "method_order <- c(\"NoBatchCorrection\", \"Conos\", \"fastmnn\", \"Harmony\", \"RPCA\", \"STACAS\")\n",
    "study_order <- c(\"Richards-GBM-LGG\", \"Bi-RCC\", \"Caron-ALL\", \"Ma-LIHC\", \"Yost-BCC\")\n",
    "levels <- c()\n",
    "\n",
    "for (i in 1:length(study_order)){\n",
    "    \n",
    "    study <- study_order[i]\n",
    "    \n",
    "    for (j in 1:length(method_order)){\n",
    "    \n",
    "    levels <- append(levels, paste0(study, \"_\", method_order[j]))\n",
    "    \n",
    "    }\n",
    "    \n",
    "}\n",
    "\n",
    "res$Study_Method <- factor(res$Study_Method, levels = levels)"
   ]
  },
  {
   "cell_type": "code",
   "execution_count": null,
   "metadata": {},
   "outputs": [],
   "source": [
    "# plot dotplot\n",
    "\n",
    "pdf(\"Figure2_LISI_Dotplot.pdf\", width = 13, height = 8.5)\n",
    "ggplot(res, aes(x = Study_Method, y = Category, fill = Median_LISI, size = Median_LISI)) + \n",
    "    geom_point(pch = 21) +\n",
    "    scale_fill_viridis_c(option = \"plasma\", name = 'Median LISI') +\n",
    "    cowplot::theme_cowplot() +\n",
    "    ylab('') + xlab('') + \n",
    "    theme(axis.text.x = element_text(angle = 90, hjust = 0.95, size = 12)) +\n",
    "    theme(axis.text.y = element_text(size = 15))\n",
    "dev.off()"
   ]
  },
  {
   "cell_type": "markdown",
   "metadata": {},
   "source": [
    "---\n",
    "## 3.0 Visualize LISI scores with boxplot\n",
    "---"
   ]
  },
  {
   "cell_type": "code",
   "execution_count": 30,
   "metadata": {},
   "outputs": [],
   "source": [
    "# load lisi scores (0 - 1)\n",
    "lisi <- fread(\"~/Desktop/H4H/pughlab/projects/cancer_scrna_integration/evalutation/lisi/LISI_calculations.csv\")\n",
    "lisi <- data.frame(lisi)\n",
    "lisi$V1 <- NULL\n",
    "rownames(lisi) <- lisi$V1.1\n",
    "lisi$V1.1 <- NULL"
   ]
  },
  {
   "cell_type": "code",
   "execution_count": 31,
   "metadata": {},
   "outputs": [],
   "source": [
    "# make a rowID where you combine Study and Method together\n",
    "lisi$Study_Method <- paste0(lisi$Study, \"_\", lisi$Method)"
   ]
  },
  {
   "cell_type": "markdown",
   "metadata": {},
   "source": [
    "---\n",
    "### 3.1 Boxplot of dataset LISI scores\n",
    "---"
   ]
  },
  {
   "cell_type": "code",
   "execution_count": 52,
   "metadata": {},
   "outputs": [
    {
     "data": {
      "text/html": [
       "'/Users/laura/Desktop/H4H/pughlab/projects/cancer_scrna_integration/figures'"
      ],
      "text/latex": [
       "'/Users/laura/Desktop/H4H/pughlab/projects/cancer\\_scrna\\_integration/figures'"
      ],
      "text/markdown": [
       "'/Users/laura/Desktop/H4H/pughlab/projects/cancer_scrna_integration/figures'"
      ],
      "text/plain": [
       "[1] \"/Users/laura/Desktop/H4H/pughlab/projects/cancer_scrna_integration/figures\""
      ]
     },
     "metadata": {},
     "output_type": "display_data"
    }
   ],
   "source": [
    "getwd()"
   ]
  },
  {
   "cell_type": "code",
   "execution_count": 32,
   "metadata": {},
   "outputs": [],
   "source": [
    "lisi$Method <- factor(lisi$Method ,\n",
    "                       levels = c(\"NoBatchCorrection\", \"Conos\", \"fastmnn\", \"Harmony\", \"RPCA\", \"STACAS\")\n",
    "                      )\n",
    "\n",
    "### remove malignant cells\n",
    "\n",
    "lisi_normal <- lisi[!lisi$CellType == \"Malignant\", ]"
   ]
  },
  {
   "cell_type": "code",
   "execution_count": 55,
   "metadata": {},
   "outputs": [
    {
     "data": {
      "text/html": [
       "<strong>pdf:</strong> 2"
      ],
      "text/latex": [
       "\\textbf{pdf:} 2"
      ],
      "text/markdown": [
       "**pdf:** 2"
      ],
      "text/plain": [
       "pdf \n",
       "  2 "
      ]
     },
     "metadata": {},
     "output_type": "display_data"
    }
   ],
   "source": [
    "pdf(\"LISI_Boxplots.pdf\", width = 11, height = 5)\n",
    "\n",
    "cols <- c(\"#E6AB02\", \"#1B9E77\", \"#D95F02\", \"#7570B3\", \"#E7298A\", \"#66A61E\")\n",
    "\n",
    "### across entire dataset\n",
    "#options(repr.plot.width=11, repr.plot.height=5)\n",
    "ggboxplot(lisi,\n",
    "          x = \"Study\",\n",
    "          y = \"LISI_SampleID_Norm\",\n",
    "          fill = \"Method\",\n",
    "          ylab = \"Normalized LISI Score\",\n",
    "          xlab = \"\",\n",
    "          palette = cols,\n",
    "          ylim = c(0,1),\n",
    "          outlier.shape = 1,\n",
    "          legend = \"right\",\n",
    "          main = \"Batch mixing across entire dataset\"\n",
    "         ) + border()\n",
    "\n",
    "### across all normal cells\n",
    "#options(repr.plot.width=11, repr.plot.height=5)\n",
    "ggboxplot(lisi_normal,\n",
    "          x = \"Study\",\n",
    "          y = \"LISI_CellType_SampleID_Norm\",\n",
    "          fill = \"Method\",\n",
    "          palette = cols,\n",
    "          ylab = \"Normalized Cell Type LISI Score\",\n",
    "          xlab = \"\",\n",
    "          ylim = c(0,1),\n",
    "          outlier.shape = 1,\n",
    "          legend = \"right\",\n",
    "          main = \"Batch mixing within normal cells\"\n",
    "         ) + border()\n",
    "\n",
    "dev.off()"
   ]
  },
  {
   "cell_type": "code",
   "execution_count": 71,
   "metadata": {},
   "outputs": [
    {
     "data": {
      "text/html": [
       "<table>\n",
       "<caption>A data.frame: 6 × 2</caption>\n",
       "<thead>\n",
       "\t<tr><th scope=col>Study_Method</th><th scope=col>LISI_CellType_SampleID_Norm</th></tr>\n",
       "\t<tr><th scope=col>&lt;chr&gt;</th><th scope=col>&lt;dbl&gt;</th></tr>\n",
       "</thead>\n",
       "<tbody>\n",
       "\t<tr><td>Caron-ALL_Conos            </td><td>0.3190285</td></tr>\n",
       "\t<tr><td>Caron-ALL_fastmnn          </td><td>0.3237171</td></tr>\n",
       "\t<tr><td>Caron-ALL_Harmony          </td><td>0.3242445</td></tr>\n",
       "\t<tr><td>Caron-ALL_NoBatchCorrection</td><td>0.1007892</td></tr>\n",
       "\t<tr><td>Caron-ALL_RPCA             </td><td>0.3196658</td></tr>\n",
       "\t<tr><td>Caron-ALL_STACAS           </td><td>0.1067079</td></tr>\n",
       "</tbody>\n",
       "</table>\n"
      ],
      "text/latex": [
       "A data.frame: 6 × 2\n",
       "\\begin{tabular}{ll}\n",
       " Study\\_Method & LISI\\_CellType\\_SampleID\\_Norm\\\\\n",
       " <chr> & <dbl>\\\\\n",
       "\\hline\n",
       "\t Caron-ALL\\_Conos             & 0.3190285\\\\\n",
       "\t Caron-ALL\\_fastmnn           & 0.3237171\\\\\n",
       "\t Caron-ALL\\_Harmony           & 0.3242445\\\\\n",
       "\t Caron-ALL\\_NoBatchCorrection & 0.1007892\\\\\n",
       "\t Caron-ALL\\_RPCA              & 0.3196658\\\\\n",
       "\t Caron-ALL\\_STACAS            & 0.1067079\\\\\n",
       "\\end{tabular}\n"
      ],
      "text/markdown": [
       "\n",
       "A data.frame: 6 × 2\n",
       "\n",
       "| Study_Method &lt;chr&gt; | LISI_CellType_SampleID_Norm &lt;dbl&gt; |\n",
       "|---|---|\n",
       "| Caron-ALL_Conos             | 0.3190285 |\n",
       "| Caron-ALL_fastmnn           | 0.3237171 |\n",
       "| Caron-ALL_Harmony           | 0.3242445 |\n",
       "| Caron-ALL_NoBatchCorrection | 0.1007892 |\n",
       "| Caron-ALL_RPCA              | 0.3196658 |\n",
       "| Caron-ALL_STACAS            | 0.1067079 |\n",
       "\n"
      ],
      "text/plain": [
       "  Study_Method                LISI_CellType_SampleID_Norm\n",
       "1 Caron-ALL_Conos             0.3190285                  \n",
       "2 Caron-ALL_fastmnn           0.3237171                  \n",
       "3 Caron-ALL_Harmony           0.3242445                  \n",
       "4 Caron-ALL_NoBatchCorrection 0.1007892                  \n",
       "5 Caron-ALL_RPCA              0.3196658                  \n",
       "6 Caron-ALL_STACAS            0.1067079                  "
      ]
     },
     "metadata": {},
     "output_type": "display_data"
    }
   ],
   "source": [
    "### median LISI for T cells Richards\n",
    "test <- lisi[lisi$CellType == \"T_cells\", ]\n",
    "test <- test[test$Study == \"Caron-ALL\", ]\n",
    "aggregate(LISI_CellType_SampleID_Norm ~ Study_Method, test, median)"
   ]
  },
  {
   "cell_type": "code",
   "execution_count": 70,
   "metadata": {},
   "outputs": [
    {
     "data": {
      "text/html": [
       "<table>\n",
       "<caption>A data.frame: 6 × 2</caption>\n",
       "<thead>\n",
       "\t<tr><th scope=col>Study_Method</th><th scope=col>LISI_CellType_SampleID_Norm</th></tr>\n",
       "\t<tr><th scope=col>&lt;chr&gt;</th><th scope=col>&lt;dbl&gt;</th></tr>\n",
       "</thead>\n",
       "<tbody>\n",
       "\t<tr><td>Richards-GBM-LGG_Conos            </td><td>0.3221801</td></tr>\n",
       "\t<tr><td>Richards-GBM-LGG_fastmnn          </td><td>0.3360566</td></tr>\n",
       "\t<tr><td>Richards-GBM-LGG_Harmony          </td><td>0.2822244</td></tr>\n",
       "\t<tr><td>Richards-GBM-LGG_NoBatchCorrection</td><td>0.2602462</td></tr>\n",
       "\t<tr><td>Richards-GBM-LGG_RPCA             </td><td>0.2877669</td></tr>\n",
       "\t<tr><td>Richards-GBM-LGG_STACAS           </td><td>0.1890623</td></tr>\n",
       "</tbody>\n",
       "</table>\n"
      ],
      "text/latex": [
       "A data.frame: 6 × 2\n",
       "\\begin{tabular}{ll}\n",
       " Study\\_Method & LISI\\_CellType\\_SampleID\\_Norm\\\\\n",
       " <chr> & <dbl>\\\\\n",
       "\\hline\n",
       "\t Richards-GBM-LGG\\_Conos             & 0.3221801\\\\\n",
       "\t Richards-GBM-LGG\\_fastmnn           & 0.3360566\\\\\n",
       "\t Richards-GBM-LGG\\_Harmony           & 0.2822244\\\\\n",
       "\t Richards-GBM-LGG\\_NoBatchCorrection & 0.2602462\\\\\n",
       "\t Richards-GBM-LGG\\_RPCA              & 0.2877669\\\\\n",
       "\t Richards-GBM-LGG\\_STACAS            & 0.1890623\\\\\n",
       "\\end{tabular}\n"
      ],
      "text/markdown": [
       "\n",
       "A data.frame: 6 × 2\n",
       "\n",
       "| Study_Method &lt;chr&gt; | LISI_CellType_SampleID_Norm &lt;dbl&gt; |\n",
       "|---|---|\n",
       "| Richards-GBM-LGG_Conos             | 0.3221801 |\n",
       "| Richards-GBM-LGG_fastmnn           | 0.3360566 |\n",
       "| Richards-GBM-LGG_Harmony           | 0.2822244 |\n",
       "| Richards-GBM-LGG_NoBatchCorrection | 0.2602462 |\n",
       "| Richards-GBM-LGG_RPCA              | 0.2877669 |\n",
       "| Richards-GBM-LGG_STACAS            | 0.1890623 |\n",
       "\n"
      ],
      "text/plain": [
       "  Study_Method                       LISI_CellType_SampleID_Norm\n",
       "1 Richards-GBM-LGG_Conos             0.3221801                  \n",
       "2 Richards-GBM-LGG_fastmnn           0.3360566                  \n",
       "3 Richards-GBM-LGG_Harmony           0.2822244                  \n",
       "4 Richards-GBM-LGG_NoBatchCorrection 0.2602462                  \n",
       "5 Richards-GBM-LGG_RPCA              0.2877669                  \n",
       "6 Richards-GBM-LGG_STACAS            0.1890623                  "
      ]
     },
     "metadata": {},
     "output_type": "display_data"
    }
   ],
   "source": [
    "### median LISI for T cells Richards\n",
    "test <- lisi[lisi$CellType == \"T_cells\", ]\n",
    "test <- test[test$Study == \"Caron-ALL\", ]\n",
    "aggregate(LISI_CellType_SampleID_Norm ~ Study_Method, test, median)"
   ]
  },
  {
   "cell_type": "code",
   "execution_count": null,
   "metadata": {},
   "outputs": [],
   "source": []
  }
 ],
 "metadata": {
  "kernelspec": {
   "display_name": "R",
   "language": "R",
   "name": "ir"
  },
  "language_info": {
   "codemirror_mode": "r",
   "file_extension": ".r",
   "mimetype": "text/x-r-source",
   "name": "R",
   "pygments_lexer": "r",
   "version": "3.6.3"
  }
 },
 "nbformat": 4,
 "nbformat_minor": 2
}
